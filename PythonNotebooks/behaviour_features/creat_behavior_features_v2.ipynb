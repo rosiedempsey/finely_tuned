{
 "cells": [
  {
   "cell_type": "markdown",
   "metadata": {},
   "source": [
    "# Create Behavior Features\n",
    "## Features based on my behavior - how and when I listen to songs and artists\n",
    "\n",
    "The first version of features is just using what comes from the raw listening data, specifically looking at frequency and recency of listening to songs and artists.\n",
    "\n",
    "The aim is to then analyse and cluster the data set to understand more about my listening behavior. \n",
    "\n",
    "Once I am happy with the first iteration I would like to visulise the results in an app (probably R Shiny).\n",
    "\n",
    "In future iterations I want to bring in external data about the music itself (genre, song length, year of release etc.) and re-run analysis and clustering.\n",
    "\n",
    "This will hopefully spark ideas for predictive and recommendation projects I can do with this data (i.e. recommend songs using others last fm data, predict what I might listen to next or look for commonality with other users (Carl!)"
   ]
  },
  {
   "cell_type": "markdown",
   "metadata": {},
   "source": [
    "## Technical Debt\n",
    "- Current year has been used for all datetimes as they don't come with year - what will happen when the data is more than a year old?"
   ]
  },
  {
   "cell_type": "markdown",
   "metadata": {},
   "source": [
    "## To-do list\n",
    "\n",
    "- (done) Tidy up play_time field to get a datetime field, being careful with the \"hours ago\" fields\n",
    "- (done) Make time of day/day of week features e.g. hour, day, time of day(seconds), weekend, \n",
    "- grouped time of day (requires pre-analysis)\n",
    "- Make features about the frequency and receny of songs listened to\n",
    "- Make features about the frequenct, recenct of artists\n",
    "- Make features about the distinct songs, max frequency of distinct songs, distinct song to plays ratio and % of plays that come from top song (may required analysis)\n",
    "\n",
    "Once this is done, there is hopefully enough features to do simple clustering!"
   ]
  },
  {
   "cell_type": "markdown",
   "metadata": {},
   "source": [
    "## Import packages"
   ]
  },
  {
   "cell_type": "code",
   "execution_count": 114,
   "metadata": {},
   "outputs": [],
   "source": [
    "import pandas as pd # allows making dataframes of results\n",
    "import numpy as np\n",
    "from datetime import datetime, date\n",
    "import matplotlib.pyplot as plt # for analysis to determine which features to create\n",
    "import seaborn as sns # for analysis to determine which features to create\n",
    "import warnings \n",
    "warnings.filterwarnings('ignore') #stop warnings, they are annoying...\n",
    "from scipy.cluster.vq import whiten\n",
    "from scipy.cluster.vq import kmeans, vq"
   ]
  },
  {
   "cell_type": "markdown",
   "metadata": {},
   "source": [
    "## Parameters"
   ]
  },
  {
   "cell_type": "code",
   "execution_count": 115,
   "metadata": {},
   "outputs": [],
   "source": [
    "# data filepath\n",
    "download_history_path = \"/Users/rosiedempsey/Desktop/MusicProject/finely_tuned/DataExports/RawScrobbles_master.csv\"\n",
    "\n",
    "# strings for classifying play_time types\n",
    "minutes_string = 'minute'\n",
    "hours_string = 'hour'\n",
    "\n",
    "# scrobble year to fill in missing year in time field\n",
    "scrobble_year = pd.datetime.now().year\n",
    "# format of datetimes from lastfm if they are not X minutes/hours ago\n",
    "datetime_format = \"%Y%d%b%I:%M%p\"\n"
   ]
  },
  {
   "cell_type": "markdown",
   "metadata": {},
   "source": [
    "## Functions"
   ]
  },
  {
   "cell_type": "code",
   "execution_count": 116,
   "metadata": {},
   "outputs": [],
   "source": [
    "\n",
    "# Functions for transforming date times\n",
    "\n",
    "# intermediate functions\n",
    "# transform datetime plays\n",
    "def clean_datetime_from_datetime_plays(datetime_df):\n",
    "    \"\"\"\n",
    "    add year to datetimes, make proper datetime field, drop temporary columns\n",
    "    \"\"\"\n",
    "    datetime_df['play_time_year']=str(scrobble_year)+datetime_df['play_time']\n",
    "    datetime_df['play_datetime'] = pd.to_datetime(datetime_df['play_time_year'],\\\n",
    "                                                         format=datetime_format)\n",
    "    return datetime_df.drop(columns='play_time_year')\n",
    "\n",
    "# clean plays in the form \"Xunitago\", unit is minutes or hours\n",
    "def clean_datetime_from_ago_plays(ago_df):\n",
    "    \"\"\"\n",
    "    Extract numbers from the time stamp field\n",
    "    Fill with 1 if na, as this represents when it says \"anhourago\"\n",
    "    Turn that into a timedelta in minutes or hours depending on the time_type field\n",
    "    Subtract this from download time\n",
    "    Drop calculation fields\n",
    "    \"\"\"\n",
    "    \n",
    "    ago_df['unit_ago'] = ago_df[\"play_time\"].str.extract('(\\d+)').fillna(1).astype(int)\n",
    "    ago_df['unit_ago_delta'] = pd.to_timedelta(ago_df['unit_ago'], unit='h')\n",
    "    ago_df.loc[ago_df['time_type']=='minutes_ago','unit_ago_delta']= pd.to_timedelta(ago_df['unit_ago'], unit='m')\n",
    "    ago_df['play_datetime'] = ago_df['download_time']-ago_df['unit_ago_delta']\n",
    "    \n",
    "    return ago_df.drop(columns=['unit_ago','unit_ago_delta'])\n",
    "    \n",
    "\n",
    "# Transform all play times\n",
    "def get_datetime_of_play(scrobble_df):\n",
    "    \"\"\"\n",
    "    Create helper field that's say what type of playtime is given (minutes ago, hours ago or datetime-like)\n",
    "    Create two dfs for different types then concat later\n",
    "    For datetime types, add year to them, then transform to date time\n",
    "    For non-datetimes extract the unit of time, turn into a delta then remove\n",
    "    \"\"\"\n",
    "#     helper field of time type\n",
    "    scrobble_df['time_type'] = 'datetime'\n",
    "    scrobble_df.loc[scrobble_df['play_time'].str.contains(minutes_string), 'time_type'] = 'minutes_ago'\n",
    "    scrobble_df.loc[scrobble_df['play_time'].str.contains(hours_string), 'time_type'] = 'hours_ago'\n",
    "    \n",
    "#   Take datetimes\n",
    "    datetimes_raw_df = scrobble_df[scrobble_df['time_type']=='datetime']\n",
    "    datetimes_clean_df = clean_datetime_from_datetime_plays(datetimes_raw_df)\n",
    "    \n",
    "# Take ago fields\n",
    "    agotime_raw_df = scrobble_df[scrobble_df['time_type'].isin(['minutes_ago','hours_ago'])]\n",
    "    agotime_clean_df = clean_datetime_from_ago_plays(agotime_raw_df)\n",
    "        \n",
    "    return pd.concat([agotime_clean_df,datetimes_clean_df])\n",
    "\n",
    "\n",
    "# Create date features\n",
    "def basic_date_features(scrobble_clean_df):\n",
    "    \"\"\"\n",
    "    Must have a proper datetime field for this to work\n",
    "    Take basic features from this\n",
    "    Time of day in seconds, hour, day of week, weekend flag\n",
    "    \"\"\"\n",
    "    scrobble_clean_df['time_day_secs'] = (scrobble_clean_df['play_datetime'].dt.hour*60\\\n",
    "                                          +scrobble_clean_df['play_datetime'].dt.minute)*60\\\n",
    "    + scrobble_clean_df['play_datetime'].dt.second\n",
    "    scrobble_clean_df['hour'] = scrobble_clean_df['play_datetime'].dt.hour\n",
    "    scrobble_clean_df['day_of_month'] = scrobble_clean_df['play_datetime'].dt.day\n",
    "    scrobble_clean_df['weekday'] = scrobble_clean_df['play_datetime'].dt.weekday\n",
    "    scrobble_clean_df['weekend_flag'] = np.where(scrobble_clean_df['weekday']<5,0,1)\n",
    "    scrobble_clean_df['time_since_play'] = (scrobble_clean_df['download_time']-scrobble_clean_df['play_datetime']).dt.seconds\n",
    "    return scrobble_clean_df\n",
    "    "
   ]
  },
  {
   "cell_type": "markdown",
   "metadata": {},
   "source": [
    "## Read in data"
   ]
  },
  {
   "cell_type": "code",
   "execution_count": 117,
   "metadata": {},
   "outputs": [
    {
     "data": {
      "text/html": [
       "<div>\n",
       "<style scoped>\n",
       "    .dataframe tbody tr th:only-of-type {\n",
       "        vertical-align: middle;\n",
       "    }\n",
       "\n",
       "    .dataframe tbody tr th {\n",
       "        vertical-align: top;\n",
       "    }\n",
       "\n",
       "    .dataframe thead th {\n",
       "        text-align: right;\n",
       "    }\n",
       "</style>\n",
       "<table border=\"1\" class=\"dataframe\">\n",
       "  <thead>\n",
       "    <tr style=\"text-align: right;\">\n",
       "      <th></th>\n",
       "      <th>song</th>\n",
       "      <th>artist</th>\n",
       "      <th>play_time</th>\n",
       "      <th>download_time</th>\n",
       "      <th>time_type</th>\n",
       "      <th>play_datetime</th>\n",
       "      <th>time_day_secs</th>\n",
       "      <th>hour</th>\n",
       "      <th>day_of_month</th>\n",
       "      <th>weekday</th>\n",
       "      <th>weekend_flag</th>\n",
       "      <th>time_since_play</th>\n",
       "    </tr>\n",
       "  </thead>\n",
       "  <tbody>\n",
       "    <tr>\n",
       "      <th>0</th>\n",
       "      <td>Government</td>\n",
       "      <td>Rupert Gregson-Williams</td>\n",
       "      <td>2hoursago</td>\n",
       "      <td>2019-08-22 19:30:53.125480</td>\n",
       "      <td>hours_ago</td>\n",
       "      <td>2019-08-22 17:30:53.125480</td>\n",
       "      <td>63053</td>\n",
       "      <td>17</td>\n",
       "      <td>22</td>\n",
       "      <td>3</td>\n",
       "      <td>0</td>\n",
       "      <td>7200</td>\n",
       "    </tr>\n",
       "    <tr>\n",
       "      <th>1</th>\n",
       "      <td>Sagana</td>\n",
       "      <td>Rupert Gregson-Williams</td>\n",
       "      <td>2hoursago</td>\n",
       "      <td>2019-08-22 19:30:53.125480</td>\n",
       "      <td>hours_ago</td>\n",
       "      <td>2019-08-22 17:30:53.125480</td>\n",
       "      <td>63053</td>\n",
       "      <td>17</td>\n",
       "      <td>22</td>\n",
       "      <td>3</td>\n",
       "      <td>0</td>\n",
       "      <td>7200</td>\n",
       "    </tr>\n",
       "    <tr>\n",
       "      <th>2</th>\n",
       "      <td>Duck Shoot</td>\n",
       "      <td>Rupert Gregson-Williams</td>\n",
       "      <td>2hoursago</td>\n",
       "      <td>2019-08-22 19:30:53.125480</td>\n",
       "      <td>hours_ago</td>\n",
       "      <td>2019-08-22 17:30:53.125480</td>\n",
       "      <td>63053</td>\n",
       "      <td>17</td>\n",
       "      <td>22</td>\n",
       "      <td>3</td>\n",
       "      <td>0</td>\n",
       "      <td>7200</td>\n",
       "    </tr>\n",
       "    <tr>\n",
       "      <th>3</th>\n",
       "      <td>The Crown Main Title</td>\n",
       "      <td>Hans Zimmer</td>\n",
       "      <td>2hoursago</td>\n",
       "      <td>2019-08-22 19:30:53.125480</td>\n",
       "      <td>hours_ago</td>\n",
       "      <td>2019-08-22 17:30:53.125480</td>\n",
       "      <td>63053</td>\n",
       "      <td>17</td>\n",
       "      <td>22</td>\n",
       "      <td>3</td>\n",
       "      <td>0</td>\n",
       "      <td>7200</td>\n",
       "    </tr>\n",
       "    <tr>\n",
       "      <th>4</th>\n",
       "      <td>Government</td>\n",
       "      <td>Rupert Gregson-Williams</td>\n",
       "      <td>2hoursago</td>\n",
       "      <td>2019-08-22 19:30:53.125480</td>\n",
       "      <td>hours_ago</td>\n",
       "      <td>2019-08-22 17:30:53.125480</td>\n",
       "      <td>63053</td>\n",
       "      <td>17</td>\n",
       "      <td>22</td>\n",
       "      <td>3</td>\n",
       "      <td>0</td>\n",
       "      <td>7200</td>\n",
       "    </tr>\n",
       "  </tbody>\n",
       "</table>\n",
       "</div>"
      ],
      "text/plain": [
       "                   song                   artist  play_time  \\\n",
       "0            Government  Rupert Gregson-Williams  2hoursago   \n",
       "1                Sagana  Rupert Gregson-Williams  2hoursago   \n",
       "2            Duck Shoot  Rupert Gregson-Williams  2hoursago   \n",
       "3  The Crown Main Title              Hans Zimmer  2hoursago   \n",
       "4            Government  Rupert Gregson-Williams  2hoursago   \n",
       "\n",
       "               download_time  time_type              play_datetime  \\\n",
       "0 2019-08-22 19:30:53.125480  hours_ago 2019-08-22 17:30:53.125480   \n",
       "1 2019-08-22 19:30:53.125480  hours_ago 2019-08-22 17:30:53.125480   \n",
       "2 2019-08-22 19:30:53.125480  hours_ago 2019-08-22 17:30:53.125480   \n",
       "3 2019-08-22 19:30:53.125480  hours_ago 2019-08-22 17:30:53.125480   \n",
       "4 2019-08-22 19:30:53.125480  hours_ago 2019-08-22 17:30:53.125480   \n",
       "\n",
       "   time_day_secs  hour  day_of_month  weekday  weekend_flag  time_since_play  \n",
       "0          63053    17            22        3             0             7200  \n",
       "1          63053    17            22        3             0             7200  \n",
       "2          63053    17            22        3             0             7200  \n",
       "3          63053    17            22        3             0             7200  \n",
       "4          63053    17            22        3             0             7200  "
      ]
     },
     "execution_count": 117,
     "metadata": {},
     "output_type": "execute_result"
    }
   ],
   "source": [
    "# read in hisory of scrobbles\n",
    "scrobble_history = pd.read_csv(download_history_path)\n",
    "# make download_time datetime\n",
    "scrobble_history['download_time'] = pd.to_datetime(scrobble_history['download_time'])\n",
    "scrobble_history = get_datetime_of_play(scrobble_history)\n",
    "scrobble_history = basic_date_features(scrobble_history)\n",
    "songs = songs.merge(artists)\n",
    "scrobble_history.head(5)"
   ]
  },
  {
   "cell_type": "markdown",
   "metadata": {},
   "source": [
    "## Really simple/most important features for now"
   ]
  },
  {
   "cell_type": "code",
   "execution_count": 118,
   "metadata": {},
   "outputs": [],
   "source": [
    "scrobble_history['artist_count'] = scrobble_history.groupby('artist')[['play_time']].transform(np.size)\n",
    "songs = scrobble_history.groupby([\"song\",\"artist\"]).agg({\"play_time\":\"count\",\"time_since_play\":\"max\", \"hour\":\"mean\",\"weekday\":\"mean\",\\\n",
    "                                                        \"weekend_flag\":\"count\", 'artist_count':'max'}).reset_index()"
   ]
  },
  {
   "cell_type": "code",
   "execution_count": 119,
   "metadata": {},
   "outputs": [
    {
     "data": {
      "text/html": [
       "<div>\n",
       "<style scoped>\n",
       "    .dataframe tbody tr th:only-of-type {\n",
       "        vertical-align: middle;\n",
       "    }\n",
       "\n",
       "    .dataframe tbody tr th {\n",
       "        vertical-align: top;\n",
       "    }\n",
       "\n",
       "    .dataframe thead th {\n",
       "        text-align: right;\n",
       "    }\n",
       "</style>\n",
       "<table border=\"1\" class=\"dataframe\">\n",
       "  <thead>\n",
       "    <tr style=\"text-align: right;\">\n",
       "      <th></th>\n",
       "      <th>song</th>\n",
       "      <th>artist</th>\n",
       "      <th>play_time</th>\n",
       "      <th>time_since_play</th>\n",
       "      <th>hour</th>\n",
       "      <th>weekday</th>\n",
       "      <th>weekend_flag</th>\n",
       "      <th>artist_count</th>\n",
       "      <th>artist_distinct_songs</th>\n",
       "      <th>artist_max_song_count</th>\n",
       "      <th>artist_max_song_percent</th>\n",
       "      <th>percent_of_artist_play</th>\n",
       "    </tr>\n",
       "  </thead>\n",
       "  <tbody>\n",
       "    <tr>\n",
       "      <th>0</th>\n",
       "      <td>\"All That Is or Ever Was or Ever Will Be\"</td>\n",
       "      <td>Alan Silvestri</td>\n",
       "      <td>1</td>\n",
       "      <td>73913</td>\n",
       "      <td>22.0</td>\n",
       "      <td>2.0</td>\n",
       "      <td>1</td>\n",
       "      <td>16</td>\n",
       "      <td>12</td>\n",
       "      <td>3</td>\n",
       "      <td>0.1875</td>\n",
       "      <td>0.0625</td>\n",
       "    </tr>\n",
       "    <tr>\n",
       "      <th>1</th>\n",
       "      <td>\"Best Day Ever\"</td>\n",
       "      <td>Alan Silvestri</td>\n",
       "      <td>1</td>\n",
       "      <td>76253</td>\n",
       "      <td>22.0</td>\n",
       "      <td>2.0</td>\n",
       "      <td>1</td>\n",
       "      <td>16</td>\n",
       "      <td>12</td>\n",
       "      <td>3</td>\n",
       "      <td>0.1875</td>\n",
       "      <td>0.0625</td>\n",
       "    </tr>\n",
       "    <tr>\n",
       "      <th>2</th>\n",
       "      <td>Back To The Future: Back To The Future</td>\n",
       "      <td>Alan Silvestri</td>\n",
       "      <td>1</td>\n",
       "      <td>24593</td>\n",
       "      <td>12.0</td>\n",
       "      <td>3.0</td>\n",
       "      <td>1</td>\n",
       "      <td>16</td>\n",
       "      <td>12</td>\n",
       "      <td>3</td>\n",
       "      <td>0.1875</td>\n",
       "      <td>0.0625</td>\n",
       "    </tr>\n",
       "    <tr>\n",
       "      <th>3</th>\n",
       "      <td>Go Ahead</td>\n",
       "      <td>Alan Silvestri</td>\n",
       "      <td>1</td>\n",
       "      <td>15833</td>\n",
       "      <td>15.0</td>\n",
       "      <td>3.0</td>\n",
       "      <td>1</td>\n",
       "      <td>16</td>\n",
       "      <td>12</td>\n",
       "      <td>3</td>\n",
       "      <td>0.1875</td>\n",
       "      <td>0.0625</td>\n",
       "    </tr>\n",
       "    <tr>\n",
       "      <th>4</th>\n",
       "      <td>He Gave It Away</td>\n",
       "      <td>Alan Silvestri</td>\n",
       "      <td>2</td>\n",
       "      <td>38993</td>\n",
       "      <td>10.5</td>\n",
       "      <td>2.0</td>\n",
       "      <td>2</td>\n",
       "      <td>16</td>\n",
       "      <td>12</td>\n",
       "      <td>3</td>\n",
       "      <td>0.1875</td>\n",
       "      <td>0.1250</td>\n",
       "    </tr>\n",
       "  </tbody>\n",
       "</table>\n",
       "</div>"
      ],
      "text/plain": [
       "                                        song          artist  play_time  \\\n",
       "0  \"All That Is or Ever Was or Ever Will Be\"  Alan Silvestri          1   \n",
       "1                            \"Best Day Ever\"  Alan Silvestri          1   \n",
       "2    Back To The Future: Back To The Future   Alan Silvestri          1   \n",
       "3                                   Go Ahead  Alan Silvestri          1   \n",
       "4                            He Gave It Away  Alan Silvestri          2   \n",
       "\n",
       "   time_since_play  hour  weekday  weekend_flag  artist_count  \\\n",
       "0            73913  22.0      2.0             1            16   \n",
       "1            76253  22.0      2.0             1            16   \n",
       "2            24593  12.0      3.0             1            16   \n",
       "3            15833  15.0      3.0             1            16   \n",
       "4            38993  10.5      2.0             2            16   \n",
       "\n",
       "   artist_distinct_songs  artist_max_song_count  artist_max_song_percent  \\\n",
       "0                     12                      3                   0.1875   \n",
       "1                     12                      3                   0.1875   \n",
       "2                     12                      3                   0.1875   \n",
       "3                     12                      3                   0.1875   \n",
       "4                     12                      3                   0.1875   \n",
       "\n",
       "   percent_of_artist_play  \n",
       "0                  0.0625  \n",
       "1                  0.0625  \n",
       "2                  0.0625  \n",
       "3                  0.0625  \n",
       "4                  0.1250  "
      ]
     },
     "execution_count": 119,
     "metadata": {},
     "output_type": "execute_result"
    }
   ],
   "source": [
    "artists = songs.groupby('artist')[['song']].nunique().reset_index().rename(columns={\"song\": \"artist_distinct_songs\"})\n",
    "songs = songs.merge(artists)\n",
    "songs['artist_max_song_count'] = songs.groupby('artist')[['play_time']].transform(np.max)\n",
    "songs['artist_max_song_percent'] = songs['artist_max_song_count']/songs['artist_count']\n",
    "songs['percent_of_artist_play'] = songs['play_time']/songs['artist_count']\n",
    "songs.head(5)"
   ]
  },
  {
   "cell_type": "markdown",
   "metadata": {},
   "source": [
    "## Quick clustering"
   ]
  },
  {
   "cell_type": "code",
   "execution_count": null,
   "metadata": {},
   "outputs": [],
   "source": []
  },
  {
   "cell_type": "markdown",
   "metadata": {},
   "source": [
    "## Some analysis to inform features"
   ]
  },
  {
   "cell_type": "code",
   "execution_count": 120,
   "metadata": {},
   "outputs": [
    {
     "data": {
      "text/plain": [
       "<matplotlib.axes._subplots.AxesSubplot at 0x1a1a273cc0>"
      ]
     },
     "execution_count": 120,
     "metadata": {},
     "output_type": "execute_result"
    },
    {
     "data": {
      "image/png": "[encoded data removed]",
      "text/plain": [
       "<Figure size 432x288 with 1 Axes>"
      ]
     },
     "metadata": {
      "needs_background": "light"
     },
     "output_type": "display_data"
    }
   ],
   "source": [
    "# most popular hour?\n",
    "sns.countplot(scrobble_history[\"hour\"])"
   ]
  },
  {
   "cell_type": "code",
   "execution_count": 121,
   "metadata": {},
   "outputs": [
    {
     "data": {
      "text/plain": [
       "<matplotlib.axes._subplots.AxesSubplot at 0x1a1ab32cf8>"
      ]
     },
     "execution_count": 121,
     "metadata": {},
     "output_type": "execute_result"
    },
    {
     "data": {
      "image/png": "[encoded data removed]",
      "text/plain": [
       "<Figure size 432x288 with 1 Axes>"
      ]
     },
     "metadata": {
      "needs_background": "light"
     },
     "output_type": "display_data"
    }
   ],
   "source": [
    "# most popular day?\n",
    "sns.countplot(scrobble_history[\"weekday\"])"
   ]
  },
  {
   "cell_type": "code",
   "execution_count": 122,
   "metadata": {},
   "outputs": [],
   "source": [
    "songs = scrobble_history.groupby([\"song\",\"artist\"])[[\"play_time\"]].count().reset_index()\n",
    "artists_2 = scrobble_history.groupby([\"artist\"])[[\"play_time\"]].count().reset_index()"
   ]
  },
  {
   "cell_type": "code",
   "execution_count": 123,
   "metadata": {},
   "outputs": [
    {
     "data": {
      "text/html": [
       "<div>\n",
       "<style scoped>\n",
       "    .dataframe tbody tr th:only-of-type {\n",
       "        vertical-align: middle;\n",
       "    }\n",
       "\n",
       "    .dataframe tbody tr th {\n",
       "        vertical-align: top;\n",
       "    }\n",
       "\n",
       "    .dataframe thead th {\n",
       "        text-align: right;\n",
       "    }\n",
       "</style>\n",
       "<table border=\"1\" class=\"dataframe\">\n",
       "  <thead>\n",
       "    <tr style=\"text-align: right;\">\n",
       "      <th></th>\n",
       "      <th>song</th>\n",
       "      <th>artist</th>\n",
       "      <th>play_time</th>\n",
       "    </tr>\n",
       "  </thead>\n",
       "  <tbody>\n",
       "    <tr>\n",
       "      <th>103</th>\n",
       "      <td>Ascent</td>\n",
       "      <td>Ludovico Einaudi</td>\n",
       "      <td>58</td>\n",
       "    </tr>\n",
       "    <tr>\n",
       "      <th>820</th>\n",
       "      <td>Low Mist Var. 1</td>\n",
       "      <td>Ludovico Einaudi</td>\n",
       "      <td>22</td>\n",
       "    </tr>\n",
       "    <tr>\n",
       "      <th>1179</th>\n",
       "      <td>Safe Now</td>\n",
       "      <td>Henry Jackman</td>\n",
       "      <td>18</td>\n",
       "    </tr>\n",
       "    <tr>\n",
       "      <th>819</th>\n",
       "      <td>Low Mist</td>\n",
       "      <td>Ludovico Einaudi</td>\n",
       "      <td>18</td>\n",
       "    </tr>\n",
       "    <tr>\n",
       "      <th>495</th>\n",
       "      <td>Fox Tracks</td>\n",
       "      <td>Ludovico Einaudi</td>\n",
       "      <td>16</td>\n",
       "    </tr>\n",
       "    <tr>\n",
       "      <th>328</th>\n",
       "      <td>Day One</td>\n",
       "      <td>Hans Zimmer</td>\n",
       "      <td>15</td>\n",
       "    </tr>\n",
       "    <tr>\n",
       "      <th>821</th>\n",
       "      <td>Low Mist Var. 2</td>\n",
       "      <td>Ludovico Einaudi</td>\n",
       "      <td>14</td>\n",
       "    </tr>\n",
       "    <tr>\n",
       "      <th>389</th>\n",
       "      <td>Duck Shoot</td>\n",
       "      <td>Rupert Gregson-Williams</td>\n",
       "      <td>14</td>\n",
       "    </tr>\n",
       "    <tr>\n",
       "      <th>525</th>\n",
       "      <td>Golden Butterflies</td>\n",
       "      <td>Ludovico Einaudi</td>\n",
       "      <td>14</td>\n",
       "    </tr>\n",
       "    <tr>\n",
       "      <th>1369</th>\n",
       "      <td>The Blue Planet</td>\n",
       "      <td>Hans Zimmer</td>\n",
       "      <td>14</td>\n",
       "    </tr>\n",
       "    <tr>\n",
       "      <th>37</th>\n",
       "      <td>A Sense of Symmetry</td>\n",
       "      <td>Ludovico Einaudi</td>\n",
       "      <td>14</td>\n",
       "    </tr>\n",
       "    <tr>\n",
       "      <th>1505</th>\n",
       "      <td>Time</td>\n",
       "      <td>Hans Zimmer</td>\n",
       "      <td>13</td>\n",
       "    </tr>\n",
       "    <tr>\n",
       "      <th>277</th>\n",
       "      <td>Cold Wind Var. 1</td>\n",
       "      <td>Ludovico Einaudi</td>\n",
       "      <td>13</td>\n",
       "    </tr>\n",
       "    <tr>\n",
       "      <th>860</th>\n",
       "      <td>Matches</td>\n",
       "      <td>Ludovico Einaudi</td>\n",
       "      <td>13</td>\n",
       "    </tr>\n",
       "    <tr>\n",
       "      <th>1413</th>\n",
       "      <td>The Imitation Game</td>\n",
       "      <td>Alexandre Desplat</td>\n",
       "      <td>13</td>\n",
       "    </tr>\n",
       "    <tr>\n",
       "      <th>421</th>\n",
       "      <td>Ending</td>\n",
       "      <td>Peter Sandberg</td>\n",
       "      <td>12</td>\n",
       "    </tr>\n",
       "    <tr>\n",
       "      <th>540</th>\n",
       "      <td>Gravity</td>\n",
       "      <td>Ludovico Einaudi</td>\n",
       "      <td>12</td>\n",
       "    </tr>\n",
       "    <tr>\n",
       "      <th>1648</th>\n",
       "      <td>Who's There</td>\n",
       "      <td>Peter Sandberg</td>\n",
       "      <td>11</td>\n",
       "    </tr>\n",
       "    <tr>\n",
       "      <th>1668</th>\n",
       "      <td>Would You Date Me?</td>\n",
       "      <td>Henry Jackman</td>\n",
       "      <td>10</td>\n",
       "    </tr>\n",
       "    <tr>\n",
       "      <th>894</th>\n",
       "      <td>Mobula Rays</td>\n",
       "      <td>Hans Zimmer</td>\n",
       "      <td>10</td>\n",
       "    </tr>\n",
       "  </tbody>\n",
       "</table>\n",
       "</div>"
      ],
      "text/plain": [
       "                      song                   artist  play_time\n",
       "103                Ascent          Ludovico Einaudi         58\n",
       "820       Low Mist Var. 1          Ludovico Einaudi         22\n",
       "1179              Safe Now            Henry Jackman         18\n",
       "819              Low Mist          Ludovico Einaudi         18\n",
       "495            Fox Tracks          Ludovico Einaudi         16\n",
       "328                Day One              Hans Zimmer         15\n",
       "821       Low Mist Var. 2          Ludovico Einaudi         14\n",
       "389             Duck Shoot  Rupert Gregson-Williams         14\n",
       "525    Golden Butterflies          Ludovico Einaudi         14\n",
       "1369       The Blue Planet              Hans Zimmer         14\n",
       "37    A Sense of Symmetry          Ludovico Einaudi         14\n",
       "1505                  Time              Hans Zimmer         13\n",
       "277      Cold Wind Var. 1          Ludovico Einaudi         13\n",
       "860               Matches          Ludovico Einaudi         13\n",
       "1413    The Imitation Game        Alexandre Desplat         13\n",
       "421                 Ending           Peter Sandberg         12\n",
       "540               Gravity          Ludovico Einaudi         12\n",
       "1648           Who's There           Peter Sandberg         11\n",
       "1668    Would You Date Me?            Henry Jackman         10\n",
       "894            Mobula Rays              Hans Zimmer         10"
      ]
     },
     "execution_count": 123,
     "metadata": {},
     "output_type": "execute_result"
    }
   ],
   "source": [
    "songs.sort_values(by=\"play_time\", ascending=False).head(20)"
   ]
  },
  {
   "cell_type": "code",
   "execution_count": 124,
   "metadata": {},
   "outputs": [
    {
     "data": {
      "text/plain": [
       "<matplotlib.axes._subplots.AxesSubplot at 0x1a19b64080>"
      ]
     },
     "execution_count": 124,
     "metadata": {},
     "output_type": "execute_result"
    },
    {
     "data": {
      "image/png": "[encoded data removed]",
      "text/plain": [
       "<Figure size 1152x432 with 1 Axes>"
      ]
     },
     "metadata": {
      "needs_background": "light"
     },
     "output_type": "display_data"
    }
   ],
   "source": [
    "top_artist = artists_2.sort_values(by=\"play_time\", ascending=False).head(10)\n",
    "plt.figure(figsize=(16, 6))\n",
    "sns.barplot(x=top_artist['artist'], y=top_artist['play_time'])"
   ]
  },
  {
   "cell_type": "code",
   "execution_count": null,
   "metadata": {},
   "outputs": [],
   "source": []
  },
  {
   "cell_type": "code",
   "execution_count": null,
   "metadata": {},
   "outputs": [],
   "source": []
  }
 ],
 "metadata": {
  "kernelspec": {
   "display_name": "Python 3",
   "language": "python",
   "name": "python3"
  },
  "language_info": {
   "codemirror_mode": {
    "name": "ipython",
    "version": 3
   },
   "file_extension": ".py",
   "mimetype": "text/x-python",
   "name": "python",
   "nbconvert_exporter": "python",
   "pygments_lexer": "ipython3",
   "version": "3.7.3"
  }
 },
 "nbformat": 4,
 "nbformat_minor": 2
}
