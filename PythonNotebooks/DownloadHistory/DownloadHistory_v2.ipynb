{
 "cells": [
  {
   "cell_type": "markdown",
   "metadata": {},
   "source": [
    "# Second attempt at downloading all scrobbled songs from LastFM and formatting them\n",
    "\n",
    "Aim of attempt 1 is to get a formatted pandas dataframe of information to be refactored later\n",
    "Initial Requirements are:\n",
    "Song name\n",
    "Artist name\n",
    "Date and time of song playing\n",
    "\n",
    "Got working on single page and tested on many - now refactoring across many pages.\n",
    "\n",
    "Later requirements will include login, error check and be parameterised so it works for other users."
   ]
  },
  {
   "cell_type": "markdown",
   "metadata": {},
   "source": [
    "## To-do list\n",
    "\n",
    "- (done) Get cleaner artist and timestamp scrape \n",
    "- (done) Loop over all last fm songs\n",
    "- (done) Remove song titles after \"-\" as it is normally something like \"remastered\" \n",
    "- (done) Export data\n",
    "- (done) Create field that is current timestamp (needed to refactor time later\n",
    "- (done) Refactor\n",
    "- Do I need to login for this to work?\n",
    "- Save to G drive at the end of the day!\n",
    "\n",
    "### To-do list moved to another notebook, part of data preparation\n",
    "- Get better time stamp format and transform \"hours since\" timings (see last block of commented code)\n",
    "- Get time between songs and flag skipped songs\n",
    "- Make some generic time features (time of day, weekend etc.)\n",
    "- Bring in metadata for songs\n",
    "\n",
    "## For future iterations\n",
    "\n",
    "- Login to lastfm (if required)\n",
    "- Make part of a managed folder (must learn how first...)\n",
    "- Append new data don't keep recreating whole data set"
   ]
  },
  {
   "cell_type": "markdown",
   "metadata": {},
   "source": [
    "## Install Packages"
   ]
  },
  {
   "cell_type": "code",
   "execution_count": 1,
   "metadata": {},
   "outputs": [],
   "source": [
    "import re           # regular expressions\n",
    "import requests     # request web pages\n",
    "import bs4          # 'beautiful soup 4' - find elements within HTML\n",
    "import lxml         # HTML parser\n",
    "import pandas as pd # allows making dataframes of results\n",
    "import numpy as np\n",
    "from datetime import datetime"
   ]
  },
  {
   "cell_type": "markdown",
   "metadata": {},
   "source": [
    "# Parameters"
   ]
  },
  {
   "cell_type": "code",
   "execution_count": 2,
   "metadata": {},
   "outputs": [],
   "source": [
    "## user input parameters\n",
    "lastfm_username = 'rosiedempsey93'\n",
    "\n",
    "## last fm determined parameters\n",
    "\n",
    "# get \"base page\" for a given username\n",
    "# a number is required at the end for each page of songs\n",
    "\n",
    "# this is an example of one the urls we need\n",
    "lastfm_example_page = 'https://www.last.fm/user/rosiedempsey93/library?date_preset=ALL&page=2'\n",
    "\n",
    "# start and end of URL\n",
    "lastfm_starturl = 'https://www.last.fm/user/'\n",
    "lastfm_endurl = '/library?date_preset=ALL&page='\n",
    "lastfm_base = lastfm_starturl + lastfm_username + lastfm_endurl"
   ]
  },
  {
   "cell_type": "markdown",
   "metadata": {},
   "source": [
    "# Functions"
   ]
  },
  {
   "cell_type": "code",
   "execution_count": 3,
   "metadata": {},
   "outputs": [],
   "source": [
    "# Find links for all pages containing songs\n",
    "# First find the number of pages\n",
    "# function find maximum page\n",
    "def find_max_page(lastfm_page):\n",
    "    \"\"\"\n",
    "    Open any lastfm music page and  req then soup to get max page\n",
    "    \"\"\"\n",
    "    example_req = requests.get(lastfm_example_page)\n",
    "    example_soup = bs4.BeautifulSoup(example_req.text, \"lxml\")\n",
    "    pages_list = []\n",
    "    for item in example_soup.find_all(\"li\",{\"class\":\"pagination-page\"}):\n",
    "        try:\n",
    "            pages_list.append(int(item.text.strip('\\n')))\n",
    "        except ValueError:\n",
    "            pass\n",
    "    return max(pages_list)\n",
    "\n",
    "# Make list of all pages\n",
    "# Function for making list\n",
    "def all_pages_list(max_page):\n",
    "    page_list = []\n",
    "    for i in range(1,max_page+1):\n",
    "        page_list.append(lastfm_base+str(i))\n",
    "    return page_list\n",
    "\n",
    "# Make list of requests and soups for all pages\n",
    "# make function for a list of webapges\n",
    "def cooking_many_soup(page_list):\n",
    "    \"\"\"\n",
    "    First request all the pages and store requests in list\n",
    "    The iterate of list of requests to make list of soups\n",
    "    Output is a list\n",
    "    \"\"\"\n",
    "    many_requests = []\n",
    "    for page in page_list:\n",
    "        many_requests.append(requests.get(page))\n",
    "    \n",
    "    many_soup = []\n",
    "    for req in many_requests:\n",
    "        many_soup.append(bs4.BeautifulSoup(req.text, \"lxml\"))\n",
    "    \n",
    "    return many_soup\n",
    "\n",
    "\n",
    "# return a list for each bit of information we want (artist, song, time)\n",
    "\n",
    "# songs - remove new line characters and anything after a \"-\" as it is normally something like \"remasterd 1999\"\n",
    "# function\n",
    "def get_songs_list(many_soup):\n",
    "    song_list= []\n",
    "    for soup in many_soup:\n",
    "        for item in soup.find_all(\"td\",{\"class\":\"chartlist-name\"}):\n",
    "            song_list.append(item.text.replace(\"\\n\", \"\").partition(\"-\")[0])\n",
    "    return song_list\n",
    "\n",
    "# artists\n",
    "# function\n",
    "def get_artist_list(many_soup):\n",
    "    artist_list= []\n",
    "    for soup in many_soup:\n",
    "        for item in soup.find_all(\"td\",{\"class\":\"chartlist-artist\"}):\n",
    "            artist_list.append(item.text.replace(\"\\n\", \"\"))\n",
    "    return artist_list\n",
    "\n",
    "# timestamps\n",
    "# function\n",
    "def get_timestamp_list(many_soup):\n",
    "    timestamp_list= []\n",
    "    for soup in many_soup:\n",
    "        for item in soup.find_all(\"td\",{\"class\":\"chartlist-timestamp\"}):\n",
    "            timestamp_list.append(item.text.replace(\"\\n\", \"\").replace(\" \", \"\").replace(\"\\xa0\", \"\"))\n",
    "    return timestamp_list"
   ]
  },
  {
   "cell_type": "markdown",
   "metadata": {},
   "source": [
    "# Run code"
   ]
  },
  {
   "cell_type": "code",
   "execution_count": 4,
   "metadata": {},
   "outputs": [
    {
     "name": "stdout",
     "output_type": "stream",
     "text": [
      "None\n"
     ]
    }
   ],
   "source": [
    "# check page works for page 1 and make BS for 1 page\n",
    "# Request the page, check it is valid and parse.\n",
    "example_req = requests.get(lastfm_example_page)\n",
    "print(example_req.raise_for_status())    # returns error if page not found"
   ]
  },
  {
   "cell_type": "code",
   "execution_count": 5,
   "metadata": {},
   "outputs": [
    {
     "name": "stdout",
     "output_type": "stream",
     "text": [
      "47\n"
     ]
    }
   ],
   "source": [
    "# Find max_page\n",
    "max_page = find_max_page(lastfm_example_page)\n",
    "print(max_page)"
   ]
  },
  {
   "cell_type": "code",
   "execution_count": 6,
   "metadata": {},
   "outputs": [
    {
     "data": {
      "text/plain": [
       "'https://www.last.fm/user/rosiedempsey93/library?date_preset=ALL&page=47'"
      ]
     },
     "execution_count": 6,
     "metadata": {},
     "output_type": "execute_result"
    }
   ],
   "source": [
    "# Make list \n",
    "# all_pages = all_pages_list(max_page)\n",
    "# For testing purposes on a smaller number\n",
    "all_pages = all_pages_list(max_page)\n",
    "all_pages[-1]"
   ]
  },
  {
   "cell_type": "code",
   "execution_count": 7,
   "metadata": {},
   "outputs": [],
   "source": [
    "# Apply soupy function\n",
    "my_soups = cooking_many_soup(all_pages)"
   ]
  },
  {
   "cell_type": "code",
   "execution_count": 8,
   "metadata": {},
   "outputs": [
    {
     "name": "stdout",
     "output_type": "stream",
     "text": [
      "2305\n",
      "Bad Mood\n"
     ]
    }
   ],
   "source": [
    "# apply  songs function\n",
    "my_songs = get_songs_list(my_soups)\n",
    "\n",
    "# check\n",
    "print(len(my_songs))\n",
    "print(my_songs[5])"
   ]
  },
  {
   "cell_type": "code",
   "execution_count": 9,
   "metadata": {},
   "outputs": [
    {
     "name": "stdout",
     "output_type": "stream",
     "text": [
      "12\n",
      "['The Frank and Walters', 'Motörhead', 'Ash', 'Tom Petty', 'Nine Inch Nails', 'The Vaccines', 'Kasabian', 'Franz Ferdinand', 'Ramones', 'Johnny Cash', 'James', 'Jimi Hendrix', 'Orange Juice', 'Richard Hawley', 'The Housemartins', 'Neil Young', 'The Kinks', 'Kirsty MacColl', 'Jet', 'The White Stripes', 'Hole', 'David Bowie', 'Pearl Jam', 'The Soft Pack', 'Garbage', 'Blur', 'Jerry Cantrell', 'Black Sabbath', 'Suede', 'Johnny Cash', 'Edwyn Collins', 'The Smiths', 'Black Francis', 'Manic Street Preachers', 'Garbage', 'Jimi Hendrix', 'Johnny Marr', 'System of a Down', 'New Fast Automatic Daffodils', 'Stone Temple Pilots', 'Pulp', 'Echo & the Bunnymen', 'Butthole Surfers', 'The Vaselines', 'Korn', 'The Smiths', 'Pete and the Pirates', 'Pete and the Pirates', 'R.E.M.', 'Pixies', 'Big Brother & The Holding Company', 'T. Rex', 'Electronic', 'Garbage', 'Sonic Youth', 'Led Zeppelin', 'Inspiral Carpets', 'The Beautiful South', 'Buzzcocks', 'Wire', 'Wire', 'Wire', 'Garbage', 'Johnny Cash', 'Hole', 'Johnny Cash', 'Jimmy Page', 'Neil Young', 'Neil Young', 'Led Zeppelin', 'Led Zeppelin', 'Sleep', 'David Bowie', 'Pixies', 'Hank Williams', 'The White Stripes', 'Pixies', 'Weezer', 'Gary Numan / Tubeway Army', 'TV on the Radio', 'Bush', 'Red Hot Chili Peppers', 'Pixies', 'The New Pornographers', 'Johnny Cash', 'Kirsty MacColl', 'The Vaccines', 'Travis', 'Beck', 'Belle and Sebastian', 'Buzzcocks', 'Catatonia', 'Pretenders', 'Garbage', 'The Clash', 'Them Crooked Vultures', 'The Only Ones', 'Beck', 'Teenage Fanclub', 'Longpigs', 'R.E.M.', 'Bob Dylan', 'System of a Down', 'Buzzcocks', 'The Beautiful South', 'The Coral', 'The Stone Roses', 'Pixies', 'Babyshambles', 'Buzzcocks', 'Butthole Surfers', 'Pixies', 'Lush', 'Bruce Springsteen', 'Eels', 'Pixies', 'The Lemonheads', 'Pretenders', 'Pixies', 'Linkin Park', 'Elvis Costello', 'Pixies', 'The Coral', 'Matthew Sweet', 'The Shins', 'Pixies', 'Doves', 'The Libertines', 'Echo & the Bunnymen', 'Pixies', 'The Libertines', 'Foo Fighters', 'The Housemartins', 'Korn', 'Pixies', 'The Libertines', 'Doves', 'Radiohead', 'Dinosaur Jr.', 'Drenge', 'Linkin Park', 'Public Image Ltd.', 'Sonic Youth', 'Nada Surf', 'Misfits', 'Inspiral Carpets', 'The Housemartins', 'Filter', 'The Smiths', 'Pretenders', 'Love And Rockets', 'The Housemartins', 'The Dandy Warhols', 'Slipknot', 'Kris Kristofferson', 'Stiff Little Fingers', 'Foo Fighters', 'The Jam', 'Marilyn Manson', 'Oasis', 'Red Hot Chili Peppers', 'Buzzcocks', 'Pennywise', 'Beck', 'Buzzcocks', 'Cocteau Twins', 'Cornershop', 'Rancid', 'Suede', 'Spacehog', 'Marilyn Manson', 'The Cranberries', 'Kirsty MacColl', 'L7', 'Kate Bush', 'The Offspring', 'Pixies', 'Minor Threat', \"Ned's Atomic Dustbin\", 'System of a Down', 'Ash', 'Ash', 'Eels', 'The Strokes', 'Pixies', 'Audioslave', 'Babes in Toyland', 'Babes in Toyland', 'Babes in Toyland', 'The Verve', 'Sex Pistols', 'Pixies', 'New Order', 'The Futureheads', 'Big Audio Dynamite', 'Dinosaur Jr.', 'Dinosaur Jr.', 'Sonic Youth', 'Pretenders', 'Babes in Toyland', \"Fun Lovin' Criminals\", 'Kris Kristofferson', 'Pixies', 'Pixies', 'R.E.M.', 'Suede', 'Norma Jean', 'Gang of Four', 'Fear', 'Feeder', 'Sonic Youth', 'Misfits', 'Arcade Fire', 'Arcade Fire', 'The Smiths', 'Pearl Jam', 'Hole', 'Yeah Yeah Yeahs', 'The Undertones', 'TV on the Radio', 'Nirvana', 'Local H', 'Buzzcocks', 'Nirvana', 'Yeah Yeah Yeahs', 'Ramones', 'The Insects', 'The Smiths', 'Cake', 'Counting Crows', 'Green Day', 'Green Day', 'R.E.M.', 'Red Hot Chili Peppers', 'The Jam', 'L7', 'Fugazi', 'Alice in Chains', 'The Smithereens', 'Nirvana', 'Bob Dylan', 'David Bowie', 'The Vaccines', 'Pearl Jam', 'The Vaselines', 'The Breeders', 'System of a Down', 'Pavement', 'Johnny Cash', 'The Beautiful South', 'The Beautiful South', 'Interpol', 'Pixies', 'Disturbed', 'Mission of Burma', 'The Flaming Lips', 'Johnny Cash', 'Johnny Cash', 'Johnny Cash', 'Johnny Cash', 'Johnny Cash', 'Johnny Cash', 'Johnny Cash', 'Johnny Cash', 'Johnny Cash', 'Pistol Annies', 'Dolly Parton', 'Kris Kristofferson', 'Johnny Cash', 'Johnny Cash', 'Johnny Cash', 'Johnny Cash', 'Johnny Cash', 'Johnny Cash', 'Johnny Cash', 'Blind Melon', 'The Dandy Warhols', 'Johnny Cash', 'Johnny Cash', 'Johnny Cash', 'Pistol Annies', 'Dolly Parton', 'Kris Kristofferson', 'Don Gibson', 'Johnny Cash', 'Willie Nelson', 'Norma Jean', 'Johnny Cash', 'Johnny Cash', 'Johnny Cash', 'Dolly Parton', 'Kris Kristofferson', 'Don Gibson', 'Johnny Cash', 'Shovels & Rope', 'Shovels & Rope', 'Shovels & Rope', 'Shovels & Rope', 'Shovels & Rope', 'Don Gibson', 'Johnny Cash', 'Willie Nelson', 'Norma Jean', 'Johnny Cash', 'Johnny Cash', 'Conway Twitty', 'Hank Williams', 'Kris Kristofferson', 'Waylon Jennings', 'Johnny Cash', 'Johnny Cash', 'Johnny Cash', 'Johnny Cash', 'Johnny Cash', 'Johnny Cash', 'Johnny Cash', 'Johnny Cash', 'Johnny Cash', 'Johnny Cash', 'Johnny Cash', 'Johnny Cash', 'Johnny Cash', 'Johnny Cash', 'Johnny Cash', 'Zayn', 'Raury', 'Miguel', 'Michael Kiwanuka', 'Jaden', 'Alessia Cara', 'Nasir Jones as Mr. Books', 'Mylene Cruz (Herizen Guardiola) & The Soul Madonnas', 'Herizen Guardiola as Mylene Cruz', 'Johnny Horton', 'Loretta Lynn', 'Waylon Jennings', 'Johnny Cash', 'Johnny Cash', 'Prince', 'Johnny Cash', 'Dolly Parton', 'Don Gibson', 'Johnny Cash', 'Johnny Cash', 'Merle Haggard', 'Willie Nelson', 'Johnny Cash', 'Johnny Cash', 'Johnny Cash', 'Johnny Cash', 'Johnny Cash', 'Johnny Cash', 'Johnny Cash', 'Johnny Cash', 'Johnny Cash', 'Johnny Cash', 'Johnny Cash', 'Johnny Cash', 'Johnny Cash', 'Johnny Cash', 'Johnny Cash', 'Johnny Cash', 'Johnny Cash', 'Johnny Cash', 'Johnny Cash', 'Johnny Cash', 'Johnny Cash', 'Johnny Cash', 'Johnny Cash', 'Johnny Cash', 'Johnny Cash', 'Johnny Cash', 'Johnny Cash', 'Johnny Cash', 'Johnny Cash', 'Johnny Cash', 'Johnny Cash', 'Johnny Cash', 'Johnny Cash', 'Johnny Cash', 'Johnny Cash', 'Johnny Cash', 'Johnny Cash', 'Johnny Cash', 'Johnny Cash', 'Johnny Cash', 'Johnny Cash', 'Johnny Cash', 'Johnny Cash', 'Johnny Cash', 'Johnny Cash', 'Johnny Cash', 'Johnny Cash', 'Johnny Cash', 'Johnny Cash', 'Johnny Cash', 'Johnny Cash', 'Johnny Cash', 'Johnny Cash', 'Johnny Cash', 'Johnny Cash', 'Johnny Cash', 'Johnny Cash', 'Johnny Cash', 'Johnny Cash', 'Johnny Cash', 'Johnny Cash', 'Johnny Cash', 'Johnny Cash', 'Johnny Cash', 'Johnny Cash', 'Johnny Cash', 'Dolly Parton', 'Kris Kristofferson', 'Don Gibson', 'Johnny Cash', 'Beat Happening', 'Johnny Cash', 'Johnny Cash', 'Willie Nelson', 'Norma Jean', 'Hank Williams', 'Johnny Cash', 'Johnny Cash', 'Johnny Cash', 'Johnny Cash', 'Johnny Cash', 'Johnny Cash', 'Pistol Annies', 'Dolly Parton', 'Kris Kristofferson', 'Don Gibson', 'Johnny Cash', 'Johnny Cash', 'The Smiths', 'Johnny Cash', 'Willie Nelson', 'Marty Stuart', 'Dolly Parton', 'Bob Luman', 'Kris Kristofferson', 'Norma Jean', 'Willie Nelson', 'Johnny Cash', 'Johnny Cash', 'Johnny Cash', 'Bob Luman', 'Norma Jean', 'Loretta Lynn', 'Mickey Newbury', 'Uncle Dave Macon and His Fruit-Jar Drinkers', 'Dolly Parton', 'Kenny Rogers', 'Jim Reeves', 'Don Gibson', 'Glen Campbell', 'Porter Wagoner', 'Lynn Anderson', 'Conway Twitty', 'Hank Williams', 'Ray Price', 'George Jones', 'Kris Kristofferson', 'Dolly Parton', 'Shovels & Rope', 'Johnny Cash', 'Johnny Cash', 'Johnny Cash', 'Johnny Cash', 'Johnny Cash', 'Johnny Cash', 'Johnny Cash', 'Johnny Cash', 'Johnny Cash', 'Johnny Cash', 'Johnny Cash', 'Johnny Cash', 'Johnny Cash', 'Johnny Cash', 'Johnny Cash', 'Johnny Cash', 'Johnny Cash', 'Johnny Cash', 'Johnny Cash', 'Johnny Cash', 'Johnny Cash', 'Johnny Cash', 'Johnny Cash', 'Johnny Cash', 'Johnny Cash', 'Johnny Cash', 'Johnny Cash', 'Johnny Cash', 'Johnny Cash', 'Johnny Cash', 'Johnny Cash', 'Johnny Cash', 'Johnny Cash', 'Johnny Cash', 'Johnny Cash', 'Johnny Cash', 'Johnny Cash', 'Johnny Cash', 'Johnny Cash', 'Johnny Cash', 'Johnny Cash', 'Johnny Cash', 'Johnny Cash', 'Johnny Cash', 'Johnny Cash', 'Johnny Cash', 'Johnny Cash', 'Johnny Cash', 'Johnny Cash', 'Johnny Cash', 'Johnny Cash', 'Johnny Cash', 'Johnny Cash', 'Johnny Cash', 'Johnny Cash', 'Johnny Cash', 'Johnny Cash', 'Johnny Cash', 'Johnny Cash', 'Hank Williams', 'Johnny Cash', 'Beat Happening', 'Johnny Cash', 'Johnny Cash', 'Johnny Cash', 'Johnny Cash', 'Johnny Cash', 'Johnny Cash', 'Johnny Cash', 'Pistol Annies', 'First Aid Kit', 'Jeannie Seely', 'Dolly Parton', 'Norma Jean', 'Stonewall Jackson', 'Porter Wagoner', 'Pistol Annies', 'Waylon Jennings', 'Dolly Parton', 'Loretta Lynn', 'Johnny Cash', 'Waylon Jennings', 'Willie Nelson', 'Hank Williams', 'Hank Williams', 'Hank Williams', 'Hank Williams', 'Hank Williams', 'Hank Williams', 'Hank Williams', 'Hank Williams', 'Hank Williams', 'Hank Williams', 'Hank Williams', 'Robert Johnson', 'Hank Williams', 'Hank Williams', 'Hank Williams', 'Hank Williams', 'Hank Williams', 'Hank Williams', 'Hank Williams', 'Hank Williams', 'Waylon Jennings', 'Johnny Cash', 'Johnny Cash', 'Johnny Cash', 'Johnny Cash', 'Johnny Cash', 'Johnny Cash', 'Johnny Cash', 'Johnny Cash', 'Johnny Cash', 'Johnny Cash', 'Johnny Cash', 'Johnny Cash', 'Johnny Cash', 'Johnny Cash', 'Johnny Cash', 'Johnny Cash', 'Johnny Cash', 'Johnny Cash', 'Johnny Cash', 'Johnny Cash', 'Johnny Cash', 'Johnny Cash', 'Disturbed', 'Pixies', 'Buzzcocks', 'The Clash', 'Bush', 'Fugazi', 'Franz Ferdinand', 'Public Image Ltd.', 'The Undertones', 'The Vaccines', 'Placebo', 'Cream', 'Kirsty MacColl', 'Slipknot', 'Nirvana', 'The Flaming Lips', 'Shovels & Rope', 'The Smiths', 'Nine Inch Nails', 'Yeah Yeah Yeahs', 'The House of Love', 'New York Dolls', 'Bruce Springsteen', 'Pulp', 'Pixies', 'Garbage', 'Eurythmics', 'The Flaming Lips', 'The Damned', 'R.E.M.', 'Beat Happening', 'The Guess Who', 'Nick Drake', 'The Allman Brothers Band', 'Television', 'Iggy Pop', 'Grand Funk Railroad', 'Neil Young', 'Buffalo Springfield', 'The Mamas & the Papas', 'T. Rex', 'Lou Reed', 'The Velvet Underground', 'Elvis Costello & The Attractions', 'George Harrison', 'The Band', 'The Hollies', 'Derek & The Dominos', 'The Stooges', 'The Zombies', 'The Kinks', 'Pretenders', 'Small Faces', 'Traffic', 'Talking Heads', 'Sly & The Family Stone', 'The Who', 'The Byrds', 'Bob Dylan', 'T. Rex', 'The Mamas & the Papas', 'The Guess Who', 'Nick Drake', 'Jethro Tull', 'The Velvet Underground', 'The Spencer Davis Group', 'The Hollies', 'The Band', 'Lou Reed', 'Iggy Pop', 'The Kinks', 'Pretenders', 'The Beautiful South', 'Beastie Boys', 'Prince', 'Lil Nathan & The Zydeco Big Timers', 'Cajun Playboys', 'The Mudbugs Cajun & Zydeco Band', 'The White Stripes', 'Black Francis', 'Placebo', 'Catatonia', 'The Smiths', 'Foo Fighters', 'Daryl Hall & John Oates', 'Live', 'Tom Petty and The Heartbreakers', 'R.E.M.', 'Pixies', 'Matthew Sweet', 'Big Audio Dynamite', 'X', 'The Kinks', 'Tom Petty', 'Beck', 'Prince', 'Shovels & Rope', 'First Aid Kit', 'Jeannie Seely', 'Norma Jean', 'Stonewall Jackson', 'Porter Wagoner', 'Waylon Jennings', 'Dolly Parton', 'The White Stripes', 'Dolly Parton', 'Loretta Lynn', 'Johnny Cash', 'Waylon Jennings', 'Willie Nelson', 'The Mudbugs Cajun & Zydeco Band', 'Dolly Parton', 'Johnny Cash', 'Charlie Rich', 'Waylon Jennings', 'Willie Nelson', 'Dolly Parton', 'Willie Nelson', 'Charlie Rich', 'George Jones', 'Merle Haggard', 'Shovels & Rope', 'Shovels & Rope', 'Shovels & Rope', 'Shovels & Rope', 'Shovels & Rope', 'Johnny Cash', 'Johnny Cash', 'Johnny Cash', 'Johnny Cash', 'Johnny Cash', 'Johnny Cash', 'Johnny Cash', 'Johnny Cash', 'Johnny Cash', 'Johnny Cash', 'Johnny Cash', 'Johnny Cash', 'Johnny Cash', 'Johnny Cash', 'Johnny Cash', 'Johnny Cash', 'Prince', 'Shovels & Rope', 'Shovels & Rope', 'Shovels & Rope', 'Shovels & Rope', 'Shovels & Rope', 'Shovels & Rope', 'Shovels & Rope', 'Shovels & Rope', 'Shovels & Rope', 'Dailey & Vincent', 'Dailey & Vincent', 'Dailey & Vincent', 'Dailey & Vincent', 'Dailey & Vincent', 'Restless Heart', 'Restless Heart', 'Esterly', 'Esterly', 'Austin Jenckes', 'Filmore', 'Filmore', 'William Michael Morgan', 'Shovels & Rope', 'Shovels & Rope', 'Shovels & Rope', 'Shovels & Rope', 'Shovels & Rope', 'George Jones', 'Merle Haggard', 'Tammy Wynette', 'Willie Nelson', 'Country Music Collective', 'Country Music Collective', 'Country Music Collective', 'Country Music Collective', 'Country Music Collective', 'Country Music Collective', 'Country Music Collective', 'Country Music Collective', 'Country Music Collective', 'Country Music Collective', 'Country Music Collective', 'Country Music Collective', 'Country Music Collective', 'Country Music Collective', 'Country Music Collective', 'Country Music Collective', 'Country Music Collective', 'Country Music Collective', 'Country Music Collective', 'Wire', 'Beat Happening', 'Violent Femmes', 'Mission of Burma', 'Bush', 'Sonic Youth', 'Guided by Voices', 'Blind Melon', 'Big Black', 'Built to Spill', 'Pixies', 'Stone Temple Pilots', 'Fugazi', 'The Smashing Pumpkins', 'Pavement', 'Buzzcocks', 'Jawbox', 'David Bowie', 'Levellers', 'Suede', 'The Clash', 'David Bowie', 'Nine Inch Nails', 'Stone Temple Pilots', 'Korn', 'Stephen Malkmus', 'The Dream Syndicate', 'Smoking Popes', 'Pixies', 'Elvis Costello & The Attractions', 'The Smiths', 'The Flaming Lips', 'Prince', 'Oasis', 'Johnny Cash', 'The Black Keys', 'Fleetwood Mac', 'Elvis Costello & The Attractions', 'R.E.M.', 'The Housemartins', 'Alanis Morissette', 'Spin Doctors', 'Nirvana', 'Johnny Cash', 'Screaming Trees', 'The Smashing Pumpkins', 'Sebadoh', \"Flamin' Groovies\", 'The Dead Milkmen', 'Stone Temple Pilots', 'The Jesus and Mary Chain', 'Pixies', 'Hole', 'Sonic Youth', 'The Damned', 'The Cramps', 'Gang of Four', 'Pavement', 'The Stooges', 'Meat Puppets', 'Fugazi', 'Bush', 'Orange Juice', 'Bob Mould', 'Guided by Voices', 'Public Image Ltd.', 'Public Image Ltd.', 'The Smashing Pumpkins', 'Soundgarden', 'Buzzcocks', 'Mission of Burma', 'Buzzcocks', 'Screaming Trees', 'Mission of Burma', 'X', 'The Lemonheads', 'The Vaselines', 'The Vaselines', 'Blind Melon', 'Stone Temple Pilots', 'Pixies', 'Pixies', 'Pavement', 'Butthole Surfers', 'Sonic Youth', 'Smoking Popes', 'Screaming Trees', 'Longpigs', 'Pretenders', 'Half Man Half Biscuit', 'The Libertines', 'Pretenders', 'Elvis Costello', 'Green Day', 'The White Stripes', 'Echo & the Bunnymen', 'Violent Femmes', 'Prince', 'Cocteau Twins', 'X', 'David Bowie', 'Happy Mondays', 'The Byrds', 'Travis', 'The Smiths', 'My Chemical Romance', \"Fun Lovin' Criminals\", 'The Raincoats', 'Guided by Voices', 'Johnny Cash', 'Babes in Toyland', 'Nirvana', 'System of a Down', 'Pixies', 'The Beautiful South', 'The Vaccines', 'Suede', 'Yeah Yeah Yeahs', 'Catatonia', '...And You Will Know Us by the Trail of Dead', 'Stereophonics', 'The Smiths', 'Sex Pistols', 'The Cribs', 'Dinosaur Jr.', 'Buzzcocks', 'Mudhoney', 'Johnny Cash', 'The Presidents of the United States of America', 'The Presidents of the United States of America', 'Dick Dale & His Del-Tones', 'Buzzcocks', 'R.E.M.', 'Pixies', 'Estrons', 'Arctic Monkeys', 'Buzzcocks', 'The Polyphonic Spree', 'Clap Your Hands Say Yeah', 'Ash', 'David Bowie', 'Foo Fighters', 'Foo Fighters', 'Meat Puppets', 'Cracker', 'The Divine Comedy', 'Local H', 'Space', 'Gary Numan / Tubeway Army', 'Interpol', 'Interpol', 'Suicidal Tendencies', 'The Dream Syndicate', 'Magic Dirt', 'Marilyn Manson', 'Prince', 'James', 'Suicidal Tendencies', 'Nirvana', 'Babes in Toyland', 'Pavement', 'The Shins', 'Pixies', 'Weezer', 'Catatonia', 'No Doubt', 'Arcade Fire', 'Wednesday 13', 'Band of Skulls', 'Pavement', 'The Damned', 'Pixies', 'Cocteau Twins', 'The Smiths', 'Arcade Fire', 'The Smashing Pumpkins', 'Green Day', 'Prince', 'The Cranberries', 'Buzzcocks', 'The Stranglers', 'Pixies', 'Jamie T', 'Cheap Trick', 'Prince', 'Prince', 'The Wonder Stuff', 'Nirvana', 'James', 'Nirvana', 'Fidlar', 'Cheap Trick', 'Babes in Toyland', 'Dinosaur Jr.', 'Mission of Burma', 'The Flaming Lips', 'Misery Kids', 'Sum 41', 'Fall Out Boy', 'blink-182', 'Sum 41', 'Fall Out Boy', 'Jimmy Eat World', 'blink-182', 'blink-182', 'blink-182', 'blink-182', 'Papa Roach', 'System of a Down', 'The Jam', 'Pulp', 'Razorlight', 'Dodgy', 'Doves', 'The Futureheads', 'The Housemartins', 'Morrissey', 'Super Furry Animals', 'Supergrass', 'Shed Seven', 'Suede', 'The Courteeners', 'Ash', 'Blur', 'The Stone Roses', 'The Beautiful South', 'The Dandy Warhols', 'Korn', 'Stiff Little Fingers', 'R.E.M.', 'Van Morrison', 'Yeah Yeah Yeahs', 'Ash', 'Liam Frost & The Slowdown Family', 'Sonic Youth', 'Simon & Garfunkel', 'The Undertones', 'Kings of Leon', 'Razorlight', 'Love And Rockets', 'The Chemical Brothers', 'Foo Fighters', 'David Bowie', 'The Amps', 'Pulp', 'The Undertones', 'Wednesday 13', 'Misfits', 'The Waterboys', 'T. Rex', 'Eels', 'Pantera', 'Weezer', 'Weezer', 'Buzzcocks', 'The Coral', 'Fishbone', 'Suede', 'Morrissey', 'The Stranglers', 'The Stranglers', 'White Lies', 'R.E.M.', 'Blind Melon', 'The Smiths', 'The Maccabees', 'Echo & the Bunnymen', 'Johnny Thunders', 'Garbage', 'Green Day', 'Teenage Fanclub', 'Le Tigre', 'The Smiths', 'Siouxsie and the Banshees', 'Pixies', 'The Breeders', 'The Flaming Lips', 'The Flaming Lips', 'Camper Van Beethoven', 'Nirvana', 'Nirvana', 'The Birthday Party', 'The Courteeners', 'Johnny Cash', 'Supergrass', 'The Smiths', 'Ash', 'The Smiths', 'Garbage', 'The Presidents of the United States of America', 'The Kinks', 'The Kinks', 'The Smashing Pumpkins', 'Orchestral Manoeuvres in the Dark', 'Orchestral Manoeuvres in the Dark', 'Bauhaus', 'The Flaming Lips', 'The Kinks', 'The Smashing Pumpkins', 'Orchestral Manoeuvres in the Dark', 'Bush', 'Stone Temple Pilots', 'Stone Temple Pilots', 'Stone Temple Pilots', 'Stone Temple Pilots', 'Blind Melon', 'The Modern Lovers', 'Deftones', 'Stone Temple Pilots', 'The White Stripes', 'Korn', 'Yeah Yeah Yeahs', 'Audioslave', 'Violent Femmes', 'The Coral', 'Le Tigre', 'The Offspring', 'Bruce Springsteen', 'Nine Inch Nails', 'The Walkmen', 'Pearl Jam', 'Arcade Fire', 'Misfits', 'The Beautiful South', 'Oasis', 'Silverchair', 'The White Stripes', 'Placebo', 'Cornershop', 'Placebo', 'The Flaming Lips', 'Talking Heads', 'The Smiths', 'Camper Van Beethoven', 'Camper Van Beethoven', 'Clap Your Hands Say Yeah', 'Pixies', 'Duran Duran', 'Weezer', 'The Vaccines', 'Inspiral Carpets', 'Simon & Garfunkel', 'Simon & Garfunkel', 'System of a Down', 'Alice in Chains', 'The Cranberries', 'Bauhaus', 'Inspiral Carpets', 'Third Eye Blind', 'L7', 'The Smiths', 'Radiohead', 'Soundgarden', 'System of a Down', \"Fun Lovin' Criminals\", 'The Flaming Lips', 'Dinosaur Jr.', 'Blur', 'Blur', 'Garbage', 'Simon & Garfunkel', 'Pixies', 'Simon & Garfunkel', 'Manic Street Preachers', 'Placebo', 'Slipknot', 'Placebo', 'The Smiths', 'Audioslave', 'The Chemical Brothers', 'Yeah Yeah Yeahs', 'Nirvana', 'Panic! at the Disco', 'Darcy Clay', 'The Cardigans', 'The Smiths', 'Nine Inch Nails', 'The White Stripes', 'Pixies', 'Minor Threat', 'Bob Dylan', 'The Velvet Underground', 'Buzzcocks', 'Oasis', 'David Bowie', 'Buzzcocks', 'Disturbed', 'The Flaming Lips', 'Ash', 'Blur', 'Counting Crows', 'Kirsty MacColl', 'Le Tigre', 'System of a Down', 'The Smiths', 'Garbage', 'Hole', 'The Smiths', 'Babes in Toyland', 'Pixies', 'Buzzcocks', 'Ramones', 'The White Stripes', 'The Beautiful South', 'Belle and Sebastian', 'Orange Juice', 'Radiohead', 'Le Tigre', 'Butthole Surfers', 'The Flaming Lips', 'The Smiths', 'The Flaming Lips', 'Radiohead', 'Babyshambles', 'Mercury Rev', 'Buzzcocks', 'Slipknot', 'The Vaccines', 'Disturbed', 'Deftones', 'The Flaming Lips', 'Lou Reed', 'Radiohead', 'Misfits', 'David Bowie', 'Happy Mondays', 'The Smiths', 'The Smiths', 'The Doors', 'Them Crooked Vultures', 'The Flaming Lips', 'Them Crooked Vultures', 'The Flaming Lips', 'Them Crooked Vultures', 'The Flaming Lips', '...And You Will Know Us by the Trail of Dead', 'Feeder', 'The Jim Carroll Band', 'Sonic Youth', 'The Subways', 'Butthole Surfers', 'Buzzcocks', 'David Bowie', 'Spacehog', 'Fugazi', 'Pixies', 'Garbage', 'The Kinks', 'Fleetwood Mac', 'Suede', 'Killing Joke', 'The Jam', 'Editors', 'Korn', \"Flamin' Groovies\", 'David Bowie', 'Marilyn Manson', 'Suzi Quatro', 'System of a Down', 'The Enemy', 'Pixies', 'Pavement', 'Madness', 'R.E.M.', 'The Specials', 'Slipknot', 'Kirsty MacColl', 'Pixies', 'The Courteeners', 'Depeche Mode', 'Green Day', 'Nirvana', 'No Doubt', 'The Flaming Lips', 'The Flaming Lips', 'The Lemonheads', 'R.E.M.', 'Nirvana', 'Belle and Sebastian', 'Pixies', 'Pink Floyd', 'Camper Van Beethoven', 'The Jam', 'The Doors', 'Nirvana', 'The Housemartins', 'Garbage', 'Black Sabbath', 'Pixies', 'Kirsty MacColl', 'Kirsty MacColl', 'Jefferson Airplane', 'Fiona Apple', 'Kirsty MacColl', 'The Undertones', 'T. Rex', 'The Stone Roses', 'Travis', 'Suede', 'The Libertines', 'Eurythmics', 'Pixies', 'Pearl Jam', 'The Flaming Lips', 'David Bowie', 'Queens of the Stone Age', 'Weezer', 'The Cribs', 'The Smiths', 'Yeah Yeah Yeahs', 'Wednesday 13', 'Pixies', 'The Insurgency', 'Live', 'Reverend Horton Heat', 'Nirvana', 'Big Audio Dynamite', 'The Clash', 'Len', 'Pretenders', 'Pavement', 'The Shins', 'Buzzcocks', 'Blood Red Shoes', 'Galaxie 500', 'The Presidents of the United States of America', 'The Presidents of the United States of America', 'Marilyn Manson', 'The Housemartins', 'R.E.M.', 'R.E.M.', 'Link Wray', 'The Smiths', 'Link Wray', 'The Last Shadow Puppets', 'Twin Atlantic', 'L7', 'The Vaccines', 'Puddle of Mudd', 'Nirvana', 'Pop Will Eat Itself', 'Kirsty MacColl', 'The Flaming Lips', 'Violent Femmes', 'Ramones', 'Disturbed', 'The Flaming Lips', 'The Lemonheads', 'The Lemonheads', 'The Flaming Lips', 'Wednesday 13', 'Hot Hot Heat', 'Gang of Four', 'Travis', 'Electronic', 'Oasis', 'Slipknot', 'Fidlar', 'Joy Division', 'Pixies', 'The Bluetones', 'Interpol', 'Manic Street Preachers', 'The Flaming Lips', 'The Allman Brothers Band', 'The Stooges', 'Seals & Crofts', 'Talking Heads', 'The Marshall Tucker Band', 'The Who', 'The Pretenders', 'Neil Young', 'T. Rex', 'Joni Mitchell', 'The Hollies', 'Bob Dylan', 'The Monkees', 'Lou Reed', 'The Velvet Underground', 'Van Morrison', 'The Kinks', 'The Cars', 'Traffic', 'The Band', 'The Clash', 'Elvis Costello & The Attractions', 'The Zombies', 'Cream', 'Todd Rundgren', 'The Modern Lovers', 'Television', 'Pretenders', 'Jefferson Airplane', 'The Mamas & the Papas', 'The Stooges', 'Tom Petty', 'Nick Drake', 'Jethro Tull', 'Stephen Stills', 'Lou Reed', 'Neil Young', 'James Gang', 'Derek & The Dominos', 'The Velvet Underground', 'T. Rex', 'The Clash', 'The Cars', 'The Band', 'Talking Heads', 'The Kinks', 'The Moody Blues', 'Bob Dylan', 'Pretenders', 'The Byrds', 'Tom Petty and The Heartbreakers', 'Joni Mitchell', 'Cream', 'The Hollies', 'Sly & The Family Stone', 'Van Morrison', 'Jefferson Airplane', 'The Monkees', 'The Modern Lovers', 'Tom Petty', 'The Velvet Underground', 'T. Rex', 'Lou Reed', 'The Clash', 'Jethro Tull', 'The Band', 'Nick Drake', 'The Guess Who', 'Television', 'The Kinks', 'Pretenders', 'Blind Melon', 'Dinosaur Jr.', 'Mission of Burma', 'The Flaming Lips', 'Bikini Kill', 'Le Tigre', 'L7', 'New Order', 'Dinosaur Jr.', 'Mission of Burma', 'The Flaming Lips', 'Bush', 'Stone Temple Pilots', 'Orchestral Manoeuvres in the Dark', 'Bush', 'Stone Temple Pilots', 'The Lemonheads', 'Dinosaur Jr.', 'Mission of Burma', 'The Flaming Lips', 'Alanis Morissette', 'The Lemonheads', 'Doves', 'The Futureheads', 'Razorlight', 'Manic Street Preachers', 'Super Furry Animals', 'Happy Mondays', 'The Jam', 'The Enemy', 'Supergrass', 'Sleeper', 'Suede', 'The Stranglers', 'Stereophonics', 'The Beautiful South', 'Maxïmo Park', 'The Stone Roses', 'The Coral', 'Hard-Fi', 'Babyshambles', 'The Undertones', 'The House of Love', 'Ash', 'The Verve', 'Manic Street Preachers', 'Pulp', 'Garbage', 'Pixies', 'Garbage', 'Nada Surf', 'Radiohead', 'Faith No More', 'Interpol', 'Korn', 'The Smiths', 'Love And Rockets', 'Babes in Toyland', 'The Flaming Lips', 'The Saints', 'Nirvana', 'Doves', 'Weezer', 'Foo Fighters', 'Camper Van Beethoven', 'Babes in Toyland', 'The Strokes', 'The Flaming Lips', 'Johnny Cash', 'The Smiths', 'David Bowie', 'Babes in Toyland', 'The Cramps', 'The Cramps', 'Morphine', 'Inspiral Carpets', 'New Order', 'Matthew Sweet', 'The Rakes', 'Le Tigre', 'The Flaming Lips', 'Metallica', 'Sonic Youth', 'Kate Bush', 'X', 'Big Brother & The Holding Company', 'The Flaming Lips', 'Mission of Burma', 'Pixies', 'Happy Mondays', 'The Flaming Lips', 'Cornershop', 'Radiohead', 'Mission of Burma', 'The Flaming Lips', 'Mission of Burma', 'The Flaming Lips', 'Beastie Boys', 'The Flaming Lips', 'The Coral', 'The Coral', 'Mission of Burma', 'The Stranglers', 'Nirvana', 'Luther Vandross', 'The Flaming Lips', 'Simon & Garfunkel', 'Sonic Youth', 'The Rolling Stones', 'The Vaccines', 'Primus', 'The Flaming Lips', 'Sonic Youth', 'The Flaming Lips', 'The Flaming Lips', 'The Velvet Underground', 'The House of Love', 'The Presidents of the United States of America', 'New Order', 'New Order', 'Bikini Kill', 'L7', 'Le Tigre', 'L7', 'New Order', 'Dinosaur Jr.', 'Mission of Burma', 'The Flaming Lips', 'The Insurgency', 'The Smiths', 'Magic Dirt', 'Buzzcocks', 'Buzzcocks', 'The Jam', 'Nirvana', 'The Jam', 'The Damned', 'John Cooper Clarke', 'The Coral', 'The Smiths', 'Tom Petty', 'Hole', 'The Rolling Stones', 'The Flaming Lips', 'Pulp', 'Pavement', 'The Dead Milkmen', 'Pulp', 'Pretenders', 'Foo Fighters', 'The Dead Milkmen', 'David Bowie', 'David Bowie', 'Sleeper', 'David Bowie', 'Audioslave', 'Live', 'James', 'Arcade Fire', 'R.E.M.', 'Badly Drawn Boy', 'Sonic Youth', 'The House of Love', 'Radiohead', 'The White Stripes', 'Joy Division', 'The Seahorses', 'The Smiths', 'Manic Street Preachers', 'The Verve', 'Mystery Jets', 'James', 'The Kinks', 'Radiohead', 'Bruce Springsteen', 'Pixies', 'Weezer', 'Buzzcocks', 'Slipknot', 'Hole', 'The Smithereens', 'Disturbed', 'Radiohead', 'Catatonia', 'Violent Femmes', 'The Offspring', 'David Bowie', 'Bush', 'The Flaming Lips', 'The Flaming Lips', 'Joy Division', 'The Jesus and Mary Chain', 'James', 'The Velvet Underground', 'Talking Heads', 'Pixies', 'Violent Femmes', 'Pavement', 'The Velvet Underground', 'Primal Scream', 'Joy Division', 'The Cure', 'Echo & the Bunnymen', 'Television', 'The Flaming Lips', 'The Clash', 'Pixies', 'Mission of Burma', 'The Stone Roses', 'Pulp', 'Beck', 'Fugazi', 'The Lemonheads', 'Iggy Pop', 'Public Image Ltd.', 'Dinosaur Jr.', 'My Bloody Valentine', 'The Stooges', 'The Smiths', 'The Vaselines', 'Dinosaur Jr.', 'Pavement', 'The Breeders', 'Sonic Youth', 'Pulp', 'The Smiths', 'David Bowie', 'Arctic Monkeys', 'Marilyn Manson', 'Muse', 'Garbage', 'Misfits', 'Bloc Party', 'System of a Down', 'The Smiths', 'Darcy Clay', 'The Clash', 'The Courteeners', 'Public Image Ltd.', 'Buzzcocks', 'The Thermals', 'Garbage', 'Iggy Pop', 'The Housemartins', 'Travis', 'Sonic Youth', 'The Beautiful South', 'The Smiths', 'The Kinks', 'Arcade Fire', 'The Kinks', 'Lou Reed', 'Cake', 'Buzzcocks', 'Marilyn Manson', 'Wire', 'Soundgarden', 'Cornershop', 'Cornershop', 'Buzzcocks', 'Jamie T', 'Disturbed', 'The Lemonheads', 'Pavement', 'Half Man Half Biscuit', 'Pavement', 'Pavement', 'Pavement', 'Pavement', 'Pavement', 'Pavement', 'T. Rex', 'Pavement', 'Eurythmics', 'T. Rex', 'Eurythmics', 'Pavement', 'The Seahorses', 'Supergrass', 'The Lemonheads', 'Half Man Half Biscuit', 'Tricky', 'R.E.M.', 'R.E.M.', 'Morrissey', 'Korn', 'Sonic Youth', 'Fidlar', 'Kirsty MacColl', 'Ash', 'The Undertones', 'Edison Lighthouse', 'Alabama 3', 'The Jim Carroll Band', 'Cracker', 'The Bravery', 'White Lies', 'David Bowie', 'Alanis Morissette', 'Dinosaur Jr.', \"Ned's Atomic Dustbin\", 'Lenny Kravitz', 'Pixies', 'Nirvana', 'T. Rex', \"Noel Gallagher's High Flying Birds\", 'Foo Fighters', 'Pixies', 'The Cult', 'Doves', 'Nine Inch Nails', 'The Offspring', 'Bruce Springsteen', 'The Smashing Pumpkins', 'Rancid', 'The Dream Syndicate', 'The Dead Milkmen', 'The Courteeners', 'Longpigs', 'Depeche Mode', 'Placebo', 'R.E.M.', 'The Smiths', \"Noel Gallagher's High Flying Birds\", 'The Beautiful South', 'The Courteeners', 'The Undertones', 'Pulp', 'The House of Love', 'The House of Love', 'The Vaccines', 'The Jam', 'Ash', 'The Housemartins', 'Morrissey', 'Doves', 'The Stranglers', 'Mansun', 'Gene', 'The Wonder Stuff', 'Mercury Rev', 'Blur', 'Inspiral Carpets', 'The Lemonheads', 'The Undertones', 'Babes in Toyland', 'Babes in Toyland', 'Pretenders', 'Alice in Chains', 'Garbage', 'The Vaselines', 'Miles Kane', 'The Housemartins', 'The Courteeners', 'Oasis', 'Yeah Yeah Yeahs', 'Harry Nilsson', 'Babes in Toyland', 'Babes in Toyland', 'Black Lips', 'Grandaddy', 'Pixies', 'The Wedding Present', 'Korn', 'Belle and Sebastian', 'Blind Melon', 'Babes in Toyland', 'Space', 'The Beatles', 'Buzzcocks', 'The Monkees', 'Minor Threat', 'The Black Crowes', 'Oasis', 'The White Stripes', 'Misfits', 'R.E.M.', 'Cast', 'Pixies', 'The Chemical Brothers', 'The Smiths', 'Pixies', 'Nirvana', 'Le Tigre', 'Longpigs', 'The Chemical Brothers', 'No Doubt', 'The Kinks', 'Arctic Monkeys', 'Soundgarden', 'Violent Femmes', 'The Kinks', 'The Velvet Underground', 'Sex Pistols', 'The Doors', 'Weezer', 'The Bees', 'Len', 'Nirvana', 'Len', 'Inspiral Carpets', 'The Enemy', 'The Courteeners', 'Cast', 'Longpigs', 'The Wonder Stuff', 'Doves', 'Travis', 'Pulp', 'Oasis', 'Manic Street Preachers', 'Razorlight', 'The Dandy Warhols', 'Badly Drawn Boy', 'Feeder', 'The Vaccines', 'Ash', 'Gomez', 'Dodgy', 'The Jam', 'Suede', 'Inspiral Carpets', 'The Beautiful South', 'The Seahorses', 'The Subways', 'The Housemartins', 'The White Stripes', 'Generation X', 'Razorlight', 'Weezer', 'The White Stripes', 'Arcade Fire', 'The Beautiful South', 'Meat Puppets', 'The Verve', 'Semisonic', 'Counting Crows', 'Stereophonics', 'Killing Joke', 'X-Ray Spex', 'The Stone Roses', 'The Smiths', 'The Walkmen', 'Twin Atlantic', 'Guided by Voices', 'Van Morrison', 'Pretenders', 'The Byrds', 'Tom Petty and The Heartbreakers', 'New Order', 'Pavement', 'Pavement', 'Pavement', 'Pavement', 'Pavement', 'Pavement', 'Pavement', 'Stone Temple Pilots', 'Stone Temple Pilots', 'Blind Melon', 'The Beatles', 'Nena', 'Camper Van Beethoven', 'Orange Juice', 'The House of Love', 'Wednesday 13', 'The Chemical Brothers', 'Arctic Monkeys', 'Love And Rockets', 'Nirvana', 'The Doors', 'Cake', 'Soundgarden', 'Bruce Springsteen', 'Blossoms', 'Pixies', 'Simon & Garfunkel', 'Placebo', 'Disturbed', 'Supergrass', 'The Coral', 'Buzzcocks', 'Love And Rockets', 'Foo Fighters', 'Spacehog', 'Deftones', 'The Seahorses', 'Cornershop', 'L7', 'Buzzcocks', 'Buzzcocks', 'Buzzcocks', 'Placebo', 'The Libertines', 'Audioslave', 'Beck', 'New Order', 'David Bowie', 'Reef', 'Sonic Youth', 'Buzzcocks', 'The Clash', 'The Smiths', 'The House of Love', 'Jimi Hendrix', 'The Byrds', 'Buzzcocks', 'Pixies', 'The Smiths', 'The Undertones', 'The Saints', 'Garbage', 'Ash', 'X', 'Nirvana', 'The House of Love', 'The Beach Boys', 'The House of Love', 'The Mamas & the Papas', 'The Cardigans', 'Radiohead', 'Pixies', 'The Smiths', 'Suede', 'Simon & Garfunkel', 'Secret Machines', 'Radiohead', 'Babyshambles', 'The Cramps', 'The Shins', 'Violent Femmes', 'The Datsuns', 'Oasis', 'Nada Surf', 'Nada Surf', 'Jamie T', 'Babes in Toyland', 'Voodoo Queens', 'Tiger Trap', 'Sleater-Kinney', 'L7', 'Sleater-Kinney', 'Dream Nails', 'Potty Mouth', 'Hole', 'Drahla', 'Stone Temple Pilots', 'Babes in Toyland', 'Gang of Four', 'Orchestral Manoeuvres in the Dark', 'Hole', 'Le Tigre', 'Bikini Kill', 'Sleater-Kinney', 'Orchestral Manoeuvres in the Dark', 'New Order', 'New Order', 'The Smiths', 'The Smiths', 'David Bowie', 'Radiohead', 'Babes in Toyland', 'Matthew Sweet', 'The Frank and Walters', 'The Jam', 'Wilco', 'The Presidents of the United States of America', 'The Smashing Pumpkins', 'The Jim Carroll Band', 'Kirsty MacColl', 'Nirvana', 'R.E.M.', 'The Rakes', 'The House of Love', 'Red Hot Chili Peppers', 'Sleater-Kinney', 'Foo Fighters', 'The Verve', 'Drenge', 'Wire', 'Stone Temple Pilots', 'Iggy Pop', 'Bruce Springsteen', 'Filter', 'The Smiths', 'System of a Down', 'Bush', 'Radiohead', 'Stone Temple Pilots', 'Stone Temple Pilots', 'The Hives', 'Pretenders', 'Suede', 'Kirsty MacColl', 'The Kinks', 'The Libertines', 'Eels', 'Misfits', 'Stone Temple Pilots', 'Sonic Youth', 'Stone Temple Pilots', 'Stone Temple Pilots', 'Stone Temple Pilots', 'Stone Temple Pilots', 'Stone Temple Pilots', 'U2', 'James', 'Garbage', 'The Vapors', 'David Bowie', 'Tame Impala', 'U2', 'Buzzcocks', 'Stiff Little Fingers', 'Interpol', 'System of a Down', 'Pixies', 'System of a Down', 'Pixies', 'New Order', 'Starsailor', 'Patti Smith', 'Nirvana', 'The Enemy', 'Blur', 'The Jam', 'Smoking Popes', 'The Jam', 'R.E.M.', 'Clap Your Hands Say Yeah', 'Kirsty MacColl', 'David Bowie', 'Built to Spill', 'Radiohead', 'The Jim Carroll Band', 'Yeah Yeah Yeahs', 'Stone Temple Pilots', 'Manic Street Preachers', 'Suede', 'The Beautiful South', 'The House of Love', 'Blind Melon', 'The House of Love', 'Babes in Toyland', 'Joy Division', 'Joy Division', 'Joy Division', 'New Order', 'New Order', 'Joy Division', 'Orchestral Manoeuvres in the Dark', 'Half Man Half Biscuit', 'New Order', 'Love And Rockets', 'Bauhaus', 'Public Image Ltd.', 'The Dandy Warhols', 'Japan', 'Pete and the Pirates', 'Babes in Toyland', 'Babes in Toyland', 'The Beatles', 'Nena', 'The Kinks', 'Orchestral Manoeuvres in the Dark', 'Orchestral Manoeuvres in the Dark', 'Stone Temple Pilots', 'Stone Temple Pilots', 'Stone Temple Pilots', 'Stone Temple Pilots', 'Stone Temple Pilots', 'Blind Melon', 'Stone Temple Pilots', 'Blind Melon', 'The Beach Boys', 'The Beatles', 'Nena', 'Camper Van Beethoven', 'Orange Juice', 'The House of Love', 'Half Man Half Biscuit', 'The House of Love', 'Nada Surf', 'Deftones', 'Babes in Toyland', 'Pixies', 'Pixies', 'Len', 'The Dandy Warhols', 'The Dandy Warhols', 'Stephen Malkmus', 'Stephen Malkmus', 'Eels', 'Sonic Youth', 'Juliana Hatfield', 'They Might Be Giants', 'Babes in Toyland', 'The Velvet Underground', 'The Velvet Underground', 'The Velvet Underground', 'The Velvet Underground', 'The Velvet Underground', 'Hole', 'The Velvet Underground', 'Franz Ferdinand', 'Franz Ferdinand', 'Korn', 'Babes in Toyland', 'Stone Temple Pilots', 'Stone Temple Pilots', 'Stone Temple Pilots', 'Babes in Toyland', 'The House of Love', 'The House of Love', 'Wednesday 13', 'Wednesday 13', 'Wednesday 13', 'Wednesday 13', 'Babes in Toyland', 'Babes in Toyland', 'Pavement', 'The Seahorses', 'Supergrass', 'The Lemonheads', 'Half Man Half Biscuit', 'Wednesday 13', 'Wednesday 13', 'Alanis Morissette', 'Orange Juice', 'The House of Love', 'Babes in Toyland', 'Babes in Toyland', 'The Seahorses', 'Supergrass', 'The Lemonheads', 'Half Man Half Biscuit', 'Orchestral Manoeuvres in the Dark', 'Stone Temple Pilots', 'The Beatles', 'Camper Van Beethoven', 'The House of Love', 'Babes in Toyland', 'Alanis Morissette', 'Babes in Toyland', 'The House of Love', 'The House of Love', 'Interpol', 'Babes in Toyland', 'Babes in Toyland', 'Eels', 'Babes in Toyland', 'Ash', 'Radiohead', 'Pixies', 'Sex Pistols', 'Babes in Toyland', 'Babes in Toyland', 'Camper Van Beethoven', 'The House of Love', 'Babes in Toyland', 'Babes in Toyland', 'Babes in Toyland', 'Babes in Toyland', 'Babes in Toyland', 'Babes in Toyland', 'Babes in Toyland', 'Babes in Toyland', 'Babes in Toyland', 'Babes in Toyland', 'Camper Van Beethoven', 'Orange Juice', 'The House of Love', 'Wednesday 13', 'Wednesday 13', 'Wednesday 13', 'The Smashing Pumpkins', 'Orchestral Manoeuvres in the Dark', 'Camper Van Beethoven', 'Orange Juice', 'The House of Love', 'Stone Temple Pilots', 'Blind Melon', 'The Beatles', 'Nena', 'Camper Van Beethoven', 'Camper Van Beethoven', 'Camper Van Beethoven', 'Camper Van Beethoven', 'Camper Van Beethoven', 'The House of Love', 'Orange Juice', 'Camper Van Beethoven', 'Stone Temple Pilots', 'Blind Melon', 'Nena', 'David Bowie', 'Morrissey', 'The Presidents of the United States of America', 'Bush', 'Violent Femmes', 'Ash', 'Interpol', 'David Bowie', 'Ash', 'The Beatles', 'Blood Red Shoes', 'Jamie T', 'Band of Skulls', 'Suede', 'Estrons', 'Cornershop', 'Cornershop', 'The Beatles', 'Nena', 'Love And Rockets', 'Nirvana', 'Jamie T', 'Orchestral Manoeuvres in the Dark', 'Pantera', 'The Lemonheads', 'Nine Inch Nails', 'The Smiths', 'Blur', 'Yeah Yeah Yeahs', 'Interpol', 'Manic Street Preachers', 'Weezer', 'Manic Street Preachers', 'Weezer', 'Eels', 'Marilyn Manson', 'Ramones', 'The Black Crowes', 'Edwyn Collins', 'The Beatles', 'The Courteeners', 'Soft Cell', 'The Smiths', 'Blind Melon', 'The Beatles', 'The Beach Boys', 'The Beatles', 'Supergrass', 'Drenge', 'The Beatles', 'The Beatles', 'The Velvet Underground', 'The Beatles', 'Drenge', 'Supergrass', \"Fun Lovin' Criminals\", 'Drenge', 'Drenge', 'Yes', 'Fleetwood Mac', 'The Who', 'Nick Drake', 'Jefferson Airplane', 'The Hollies', 'Stephen Stills', 'The Mamas & the Papas', 'Small Faces', 'Blue Öyster Cult', 'Bob Dylan', 'Joni Mitchell', 'The Allman Brothers Band', 'The Allman Brothers Band', 'Cream', 'Crosby, Stills & Nash', 'Gordon Lightfoot', 'The Zombies', 'T. Rex', 'The Pretenders', 'Blind Melon', 'Len', 'Nirvana', 'Fleetwood Mac', 'Stone Temple Pilots', 'The Rakes', 'Grandaddy', 'Green Day', 'The Smiths', 'The Jim Carroll Band', 'The Breeders', 'Stone Temple Pilots', 'Hole']\n"
     ]
    }
   ],
   "source": [
    "# apply artistsfunction\n",
    "my_artists = get_artist_list(my_soups)\n",
    "\n",
    "# check\n",
    "print(len(my_artists[5]))\n",
    "print(my_artists)"
   ]
  },
  {
   "cell_type": "code",
   "execution_count": 10,
   "metadata": {},
   "outputs": [
    {
     "name": "stdout",
     "output_type": "stream",
     "text": [
      "12\n",
      "['8minutesago', '10minutesago', '14minutesago', '19minutesago', '26minutesago', '29minutesago', '33minutesago', '36minutesago', '39minutesago', '43minutesago', '46minutesago', '49minutesago', '51minutesago', '55minutesago', '58minutesago', 'anhourago', 'anhourago', 'anhourago', 'anhourago', 'anhourago', 'anhourago', 'anhourago', 'anhourago', 'anhourago', 'anhourago', 'anhourago', 'anhourago', 'anhourago', 'anhourago', 'anhourago', 'anhourago', '2hoursago', '2hoursago', '2hoursago', '2hoursago', '2hoursago', '2hoursago', '2hoursago', '2hoursago', '2hoursago', '4hoursago', '4hoursago', '4hoursago', '4hoursago', '4hoursago', '4hoursago', '4hoursago', '5hoursago', '5hoursago', '5hoursago', '7hoursago', '8hoursago', '8hoursago', '9hoursago', '9hoursago', '9hoursago', '23hoursago', '23hoursago', '23hoursago', '23hoursago', '23hoursago', '2Jul4:52pm', '2Jul4:48pm', '2Jul4:45pm', '2Jul4:45pm', '2Jul4:42pm', '2Jul4:35pm', '2Jul4:35pm', '2Jul4:31pm', '2Jul4:26pm', '2Jul4:19pm', '2Jul4:13pm', '2Jul4:11pm', '2Jul4:10pm', '2Jul4:05pm', '2Jul4:01pm', '2Jul3:57pm', '2Jul3:52pm', '2Jul2:57pm', '2Jul2:53pm', '2Jul2:48pm', '2Jul2:38pm', '2Jul2:32pm', '2Jul2:28pm', '2Jul2:26pm', '1Jul10:23pm', '1Jul10:20pm', '1Jul10:16pm', '1Jul10:13pm', '1Jul10:13pm', '1Jul10:05pm', '1Jul10:01pm', '1Jul10:01pm', '1Jul5:58pm', '1Jul5:55pm', '1Jul5:51pm', '1Jul5:48pm', '1Jul5:42pm', '1Jul5:40pm', '1Jul5:35pm', '1Jul5:35pm', '1Jul5:26pm', '1Jul5:23pm', '1Jul5:21pm', '1Jul5:17pm', '1Jul5:15pm', '1Jul5:11pm', '1Jul4:19pm', '1Jul4:16pm', '1Jul4:12pm', '1Jul4:07pm', '1Jul4:05pm', '1Jul4:01pm', '1Jul3:57pm', '1Jul3:54pm', '1Jul3:50pm', '1Jul3:47pm', '1Jul3:43pm', '1Jul3:39pm', '1Jul3:36pm', '1Jul3:34pm', '1Jul3:30pm', '1Jul3:28pm', '1Jul3:24pm', '1Jul3:20pm', '1Jul3:16pm', '1Jul3:11pm', '1Jul3:08pm', '1Jul3:04pm', '1Jul3:01pm', '1Jul2:58pm', '1Jul2:54pm', '1Jul2:52pm', '1Jul2:48pm', '1Jul2:45pm', '1Jul2:42pm', '1Jul2:20pm', '1Jul2:17pm', '1Jul2:13pm', '1Jul2:09pm', '1Jul2:06pm', '1Jul1:59pm', '1Jul1:51pm', '1Jul1:47pm', '1Jul1:45pm', '1Jul1:41pm', '1Jul1:37pm', '1Jul1:32pm', '1Jul1:30pm', '1Jul1:26pm', '1Jul1:20pm', '1Jul1:17pm', '1Jul1:13pm', '1Jul1:13pm', '1Jul9:08am', '29Jun1:34am', '29Jun1:28am', '29Jun1:25am', '29Jun1:21am', '29Jun1:16am', '29Jun1:10am', '29Jun1:07am', '29Jun1:03am', '29Jun12:59am', '29Jun12:57am', '29Jun12:53am', '29Jun12:47am', '29Jun12:45am', '29Jun12:41am', '29Jun12:36am', '29Jun12:34am', '29Jun12:29am', '29Jun12:24am', '29Jun12:20am', '29Jun12:15am', '29Jun12:12am', '29Jun12:09am', '29Jun12:08am', '29Jun12:05am', '29Jun12:00am', '28Jun11:57pm', '28Jun11:53pm', '28Jun11:50pm', '28Jun11:46pm', '28Jun11:44pm', '28Jun11:39pm', '28Jun11:34pm', '28Jun11:30pm', '28Jun11:26pm', '28Jun5:25pm', '28Jun5:22pm', '28Jun5:18pm', '28Jun5:12pm', '28Jun5:09pm', '28Jun5:05pm', '28Jun5:05pm', '28Jun5:01pm', '28Jun4:57pm', '28Jun4:53pm', '28Jun9:10am', '28Jun9:07am', '28Jun9:02am', '28Jun9:02am', '28Jun8:58am', '28Jun8:53am', '28Jun8:50am', '28Jun8:47am', '28Jun8:23am', '28Jun8:20am', '28Jun8:14am', '28Jun8:07am', '28Jun8:05am', '28Jun8:05am', '28Jun8:00am', '28Jun7:55am', '28Jun7:50am', '27Jun6:09pm', '27Jun6:07pm', '27Jun6:05pm', '27Jun6:00pm', '27Jun5:57pm', '27Jun5:51pm', '27Jun5:48pm', '27Jun5:46pm', '27Jun5:43pm', '27Jun5:40pm', '27Jun5:35pm', '27Jun5:32pm', '27Jun5:29pm', '27Jun5:25pm', '27Jun5:25pm', '27Jun5:21pm', '27Jun5:16pm', '27Jun5:11pm', '27Jun5:09pm', '27Jun5:06pm', '27Jun5:03pm', '27Jun4:59pm', '27Jun4:55pm', '27Jun4:52pm', '27Jun4:46pm', '27Jun4:42pm', '27Jun4:39pm', '27Jun4:33pm', '27Jun4:29pm', '27Jun4:26pm', '27Jun4:23pm', '27Jun4:19pm', '27Jun4:16pm', '26Jun6:12pm', '26Jun6:12pm', '26Jun6:08pm', '26Jun6:04pm', '26Jun5:59pm', '26Jun8:59am', '26Jun8:56am', '23Jun4:28pm', '23Jun2:26pm', '23Jun2:23pm', '23Jun2:20pm', '23Jun2:17pm', '23Jun2:14pm', '23Jun2:11pm', '23Jun2:08pm', '23Jun2:04pm', '23Jun2:01pm', '23Jun2:01pm', '23Jun1:54pm', '22Jun4:59pm', '22Jun4:56pm', '22Jun4:54pm', '22Jun4:51pm', '22Jun4:48pm', '22Jun4:45pm', '22Jun4:43pm', '19Jun4:05pm', '19Jun4:02pm', '19Jun3:59pm', '17Jun11:02pm', '17Jun6:58pm', '17Jun6:55pm', '17Jun6:51pm', '17Jun6:48pm', '17Jun6:44pm', '17Jun6:41pm', '17Jun6:39pm', '17Jun6:37pm', '14Jun6:01pm', '14Jun5:56pm', '14Jun5:52pm', '14Jun5:50pm', '14Jun5:01pm', '14Jun4:56pm', '14Jun4:53pm', '14Jun4:51pm', '14Jun4:43pm', '14Jun4:41pm', '14Jun4:37pm', '14Jun4:33pm', '14Jun2:53am', '14Jun2:52am', '14Jun2:50am', '14Jun2:47am', '14Jun2:45am', '14Jun2:42am', '11Jun4:15pm', '11Jun4:10pm', '11Jun4:06pm', '11Jun4:04pm', '11Jun4:01pm', '11Jun3:58pm', '11Jun3:55pm', '11Jun3:52pm', '11Jun3:49pm', '11Jun3:46pm', '11Jun3:43pm', '11Jun3:40pm', '11Jun3:37pm', '11Jun3:32pm', '11Jun3:30pm', '11Jun3:28pm', '11Jun3:24pm', '11Jun3:20pm', '11Jun3:18pm', '10Jun6:57pm', '10Jun6:53pm', '10Jun6:48pm', '10Jun6:45pm', '10Jun6:44pm', '10Jun6:41pm', '10Jun6:38pm', '10Jun6:35pm', '10Jun6:31pm', '8Jun9:03am', '8Jun9:00am', '8Jun8:58am', '8Jun8:56am', '7Jun6:36pm', '7Jun6:32pm', '7Jun6:29pm', '7Jun6:26pm', '7Jun6:23pm', '7Jun6:21pm', '7Jun6:18pm', '7Jun6:15pm', '7Jun6:10pm', '7Jun6:10pm', '7Jun5:32pm', '7Jun5:29pm', '7Jun5:26pm', '7Jun5:24pm', '7Jun5:20pm', '7Jun4:41pm', '7Jun4:29pm', '7Jun4:26pm', '7Jun4:23pm', '7Jun4:21pm', '7Jun4:17pm', '7Jun4:14pm', '7Jun4:11pm', '7Jun4:07pm', '7Jun4:04pm', '7Jun4:03pm', '7Jun3:59pm', '7Jun3:55pm', '7Jun3:52pm', '7Jun3:50pm', '7Jun3:48pm', '7Jun3:45pm', '7Jun3:42pm', '7Jun10:56am', '7Jun10:53am', '7Jun10:50am', '7Jun10:48am', '7Jun10:44am', '7Jun10:41am', '7Jun10:37am', '7Jun10:33am', '7Jun10:30am', '7Jun10:27am', '7Jun10:23am', '7Jun10:20am', '7Jun10:17am', '7Jun10:14am', '7Jun10:11am', '7Jun10:08am', '7Jun10:05am', '7Jun10:02am', '7Jun10:00am', '7Jun9:56am', '7Jun9:53am', '7Jun9:50am', '7Jun9:46am', '7Jun9:43am', '7Jun9:42am', '6Jun7:21pm', '6Jun7:18pm', '6Jun7:13pm', '6Jun7:11pm', '6Jun7:09pm', '6Jun7:06pm', '6Jun7:02pm', '6Jun6:53pm', '6Jun6:51pm', '6Jun6:47pm', '6Jun6:45pm', '6Jun8:15am', '6Jun8:12am', '6Jun8:09am', '6Jun8:05am', '6Jun8:03am', '6Jun8:00am', '6Jun7:57am', '6Jun7:53am', '6Jun7:50am', '6Jun7:08am', '5Jun5:47pm', '5Jun5:44pm', '5Jun9:06am', '5Jun9:04am', '5Jun9:02am', '5Jun8:59am', '5Jun8:54am', '5Jun8:51am', '5Jun8:47am', '5Jun8:45am', '5Jun8:42am', '5Jun8:09am', '5Jun8:05am', '5Jun8:02am', '5Jun7:58am', '5Jun7:55am', '5Jun7:53am', '4Jun9:26am', '4Jun9:23am', '4Jun9:21am', '4Jun9:18am', '4Jun12:25am', '4Jun12:22am', '4Jun12:19am', '4Jun12:15am', '4Jun12:12am', '4Jun12:10am', '4Jun12:09am', '4Jun12:06am', '4Jun12:04am', '3Jun8:25pm', '3Jun8:22pm', '3Jun8:20pm', '3Jun8:14pm', '3Jun8:11pm', '3Jun8:08pm', '3Jun8:04pm', '3Jun8:02pm', '3Jun7:59pm', '3Jun7:57pm', '3Jun7:53pm', '3Jun7:50pm', '3Jun7:47pm', '3Jun7:44pm', '3Jun7:41pm', '3Jun7:38pm', '3Jun7:33pm', '3Jun7:30pm', '3Jun7:27pm', '3Jun7:26pm', '3Jun7:23pm', '3Jun7:20pm', '3Jun7:17pm', '3Jun7:15pm', '3Jun7:13pm', '3Jun6:03pm', '3Jun6:01pm', '3Jun5:58pm', '3Jun5:56pm', '3Jun5:53pm', '3Jun5:51pm', '3Jun5:49pm', '3Jun5:46pm', '3Jun5:44pm', '3Jun1:07pm', '3Jun1:04pm', '3Jun1:02pm', '3Jun12:59pm', '3Jun12:56pm', '3Jun12:54pm', '3Jun12:51pm', '3Jun12:48pm', '3Jun12:45pm', '3Jun9:31am', '3Jun9:28am', '3Jun9:27am', '3Jun9:24am', '3Jun9:22am', '3Jun9:20am', '3Jun9:17am', '3Jun9:16am', '3Jun9:14am', '3Jun9:12am', '3Jun9:12am', '3Jun9:07am', '3Jun9:05am', '3Jun9:03am', '3Jun9:01am', '3Jun8:58am', '3Jun8:55am', '3Jun8:53am', '3Jun8:50am', '3Jun8:49am', '3Jun8:46am', '3Jun8:46am', '3Jun8:15am', '3Jun8:13am', '3Jun8:10am', '3Jun8:09am', '3Jun8:06am', '3Jun8:04am', '2Jun8:29pm', '2Jun8:25pm', '2Jun8:18pm', '2Jun8:14pm', '2Jun8:13pm', '2Jun8:10pm', '2Jun8:07pm', '2Jun8:04pm', '1Jun2:03pm', '1Jun1:17pm', '1Jun1:14pm', '1Jun1:11pm', '1Jun1:09pm', '1Jun1:05pm', '1Jun1:02pm', '1Jun12:59pm', '1Jun12:56pm', '1Jun12:53pm', '31May8:38pm', '31May8:35pm', '31May8:31pm', '31May8:28pm', '31May8:25pm', '31May8:23pm', '31May8:19pm', '31May8:17pm', '31May8:14pm', '31May8:11pm', '31May8:09pm', '31May8:06pm', '31May8:04pm', '31May8:01pm', '31May7:58pm', '31May7:55pm', '31May7:52pm', '31May7:50pm', '31May7:47pm', '31May7:44pm', '31May7:41pm', '31May7:39pm', '31May7:36pm', '31May7:33pm', '31May7:30pm', '31May7:27pm', '31May7:25pm', '31May7:22pm', '31May7:19pm', '31May7:16pm', '31May7:13pm', '31May7:10pm', '31May7:07pm', '31May7:04pm', '31May7:01pm', '31May6:59pm', '31May6:53pm', '31May6:50pm', '31May6:48pm', '31May6:45pm', '31May6:42pm', '31May6:39pm', '31May6:36pm', '31May8:00am', '31May7:59am', '31May7:57am', '31May7:55am', '31May7:51am', '31May7:48am', '31May7:44am', '31May7:41am', '31May7:40am', '31May7:36am', '31May7:33am', '31May7:30am', '31May7:27am', '30May8:47pm', '30May8:44pm', '30May8:37pm', '30May8:33pm', '30May8:29pm', '30May8:26pm', '30May8:22pm', '30May8:19pm', '30May8:16pm', '30May8:13pm', '30May8:10pm', '30May8:05pm', '30May8:01pm', '30May7:57pm', '30May7:53pm', '30May7:49pm', '30May4:24pm', '29May6:46pm', '29May6:40pm', '29May6:36pm', '29May6:32pm', '29May6:28pm', '29May6:24pm', '29May6:19pm', '29May6:17pm', '29May6:13pm', '29May6:09pm', '29May6:09pm', '29May8:29am', '29May8:26am', '29May8:23am', '27May6:21pm', '27May6:19pm', '27May6:14pm', '27May6:10pm', '27May6:07pm', '27May6:04pm', '27May6:01pm', '27May5:59pm', '27May5:55pm', '27May5:51pm', '27May5:47pm', '27May5:40pm', '27May5:37pm', '27May5:32pm', '27May5:29pm', '27May5:26pm', '27May5:19pm', '27May5:13pm', '27May5:11pm', '27May5:08pm', '27May5:04pm', '27May5:01pm', '27May4:56pm', '27May4:52pm', '27May4:50pm', '27May4:47pm', '27May4:43pm', '27May4:36pm', '27May4:30pm', '27May4:27pm', '27May4:22pm', '27May4:18pm', '27May4:14pm', '27May4:11pm', '27May4:08pm', '27May4:03pm', '27May3:59pm', '27May3:55pm', '27May3:51pm', '27May3:46pm', '27May3:43pm', '26May4:24pm', '26May4:20pm', '26May4:17pm', '26May4:11pm', '26May4:08pm', '26May4:04pm', '26May3:59pm', '26May3:54pm', '26May3:51pm', '26May3:47pm', '26May3:44pm', '26May3:40pm', '26May3:35pm', '26May3:32pm', '26May3:28pm', '26May3:23pm', '26May3:23pm', '24May5:38pm', '24May5:34pm', '24May5:31pm', '24May5:27pm', '24May5:23pm', '24May5:19pm', '24May5:15pm', '24May5:11pm', '24May4:12pm', '24May1:46pm', '24May1:43pm', '24May1:40pm', '24May1:38pm', '24May1:34pm', '24May1:34pm', '24May12:21pm', '24May12:18pm', '24May12:15pm', '24May12:04pm', '24May12:01pm', '24May11:59am', '24May11:54am', '24May11:28am', '24May11:02am', '24May11:02am', '24May10:48am', '24May10:45am', '24May10:41am', '24May10:36am', '24May10:33am', '24May10:30am', '24May10:22am', '24May10:18am', '24May9:44am', '24May9:32am', '24May9:32am', '24May8:09am', '24May7:40am', '23May7:56pm', '23May7:53pm', '23May7:51pm', '23May7:48pm', '23May7:44pm', '23May7:41pm', '23May7:38pm', '23May7:34pm', '23May7:31pm', '23May7:28pm', '23May6:28pm', '23May6:27pm', '23May6:23pm', '23May6:20pm', '23May6:17pm', '23May6:12pm', '23May5:43pm', '23May5:39pm', '23May5:35pm', '23May5:31pm', '23May5:27pm', '23May5:20pm', '23May5:16pm', '23May5:13pm', '23May5:08pm', '23May5:04pm', '23May5:01pm', '23May4:57pm', '23May4:55pm', '23May4:52pm', '23May4:46pm', '23May4:42pm', '23May4:38pm', '23May4:35pm', '23May4:30pm', '23May3:31pm', '23May2:41pm', '23May2:35pm', '23May2:31pm', '23May2:28pm', '23May2:24pm', '23May2:20pm', '23May2:16pm', '23May2:00pm', '23May1:55pm', '23May1:52pm', '23May1:49pm', '23May1:47pm', '23May1:44pm', '23May1:42pm', '23May1:39pm', '23May1:36pm', '23May1:33pm', '23May1:31pm', '23May1:29pm', '23May1:26pm', '23May1:23pm', '23May1:19pm', '23May1:16pm', '23May1:14pm', '23May1:12pm', '23May12:27pm', '23May12:21pm', '23May12:19pm', '23May12:04pm', '23May12:02pm', '23May11:59am', '23May11:56am', '23May11:54am', '23May11:50am', '23May11:46am', '23May11:41am', '23May11:40am', '23May11:34am', '23May11:31am', '23May11:22am', '23May11:20am', '23May11:15am', '23May11:03am', '23May10:58am', '23May10:56am', '23May10:54am', '23May10:49am', '23May10:44am', '23May10:39am', '23May10:34am', '23May10:30am', '23May10:27am', '23May9:07am', '23May9:04am', '23May8:59am', '23May8:57am', '23May8:53am', '23May8:50am', '23May8:47am', '23May8:43am', '23May8:39am', '23May8:36am', '23May8:32am', '22May6:42pm', '22May6:39pm', '22May6:36pm', '22May6:33pm', '22May6:29pm', '22May6:29pm', '22May6:22pm', '22May6:22pm', '22May6:14pm', '22May6:10pm', '22May6:07pm', '22May5:25pm', '22May4:58pm', '22May4:56pm', '22May4:51pm', '22May4:48pm', '22May4:43pm', '22May4:39pm', '22May4:37pm', '22May4:34pm', '22May4:29pm', '22May4:27pm', '22May4:23pm', '22May4:20pm', '22May4:17pm', '22May4:13pm', '22May4:11pm', '22May4:08pm', '22May4:02pm', '22May4:00pm', '22May3:58pm', '22May3:56pm', '22May3:50pm', '22May2:08pm', '22May2:04pm', '22May1:59pm', '22May1:56pm', '22May1:52pm', '22May1:11pm', '22May12:33pm', '22May11:49am', '22May11:45am', '22May11:42am', '22May11:37am', '22May11:26am', '22May11:22am', '22May11:17am', '22May11:13am', '22May11:09am', '22May11:07am', '22May11:02am', '22May10:58am', '22May10:58am', '22May9:10am', '21May5:59pm', '21May5:55pm', '21May5:52pm', '21May5:48pm', '21May5:44pm', '21May5:43pm', '21May5:40pm', '21May5:36pm', '21May5:31pm', '21May5:28pm', '21May5:21pm', '21May5:03pm', '21May4:59pm', '21May4:57pm', '21May4:52pm', '21May4:49pm', '21May4:45pm', '21May4:43pm', '21May4:39pm', '21May4:36pm', '21May4:32pm', '21May4:31pm', '21May4:28pm', '21May4:25pm', '21May4:21pm', '21May4:18pm', '21May4:16pm', '21May3:57pm', '21May3:54pm', '21May3:49pm', '21May3:45pm', '21May3:42pm', '21May3:35pm', '21May3:32pm', '21May3:29pm', '21May3:26pm', '21May3:23pm', '21May3:19pm', '21May3:16pm', '21May3:13pm', '21May3:10pm', '21May3:07pm', '21May2:56pm', '21May2:54pm', '21May2:52pm', '21May2:48pm', '21May2:45pm', '21May2:42pm', '21May2:39pm', '21May2:32pm', '21May2:28pm', '21May2:23pm', '21May2:20pm', '21May2:15pm', '21May2:11pm', '21May2:07pm', '21May2:04pm', '21May2:00pm', '21May1:55pm', '21May1:49pm', '21May1:46pm', '21May1:41pm', '21May1:37pm', '21May1:34pm', '21May1:30pm', '21May1:27pm', '21May1:23pm', '21May1:19pm', '21May1:15pm', '21May1:14pm', '21May11:53am', '21May11:48am', '21May11:44am', '21May11:40am', '21May11:35am', '21May11:33am', '21May11:30am', '21May11:26am', '21May11:22am', '21May11:18am', '21May11:14am', '21May11:11am', '21May11:07am', '21May11:02am', '21May11:00am', '21May10:56am', '21May10:52am', '21May10:48am', '21May10:43am', '21May10:39am', '21May10:35am', '20May8:13pm', '20May8:10pm', '20May8:07pm', '20May8:04pm', '20May8:00pm', '20May7:56pm', '20May7:51pm', '20May7:48pm', '20May7:44pm', '20May7:40pm', '20May7:35pm', '20May7:32pm', '20May7:29pm', '20May7:26pm', '20May12:10pm', '20May12:06pm', '20May9:10am', '20May9:06am', '17May11:39pm', '17May11:35pm', '17May11:32pm', '17May11:21pm', '17May11:18pm', '17May11:14pm', '17May11:11pm', '17May11:08pm', '17May11:05pm', '17May11:02pm', '17May10:58pm', '17May10:55pm', '17May10:52pm', '17May8:57pm', '17May8:51pm', '17May8:47pm', '17May8:41pm', '17May8:35pm', '17May8:32pm', '17May8:30pm', '17May8:27pm', '17May8:24pm', '17May8:22pm', '17May8:17pm', '17May8:13pm', '17May8:11pm', '17May8:07pm', '17May8:02pm', '17May7:58pm', '17May7:54pm', '17May7:51pm', '17May7:46pm', '17May7:44pm', '17May7:38pm', '17May7:35pm', '17May7:33pm', '17May7:29pm', '17May7:25pm', '17May7:19pm', '17May7:16pm', '17May7:13pm', '17May7:11pm', '17May7:08pm', '17May7:03pm', '17May6:58pm', '17May6:54pm', '17May6:50pm', '17May6:48pm', '17May6:43pm', '17May6:41pm', '17May6:38pm', '17May6:35pm', '17May6:28pm', '17May6:23pm', '17May6:20pm', '17May6:15pm', '17May6:10pm', '17May11:05am', '17May11:01am', '17May10:59am', '17May10:56am', '17May10:52am', '17May10:49am', '17May10:42am', '17May10:39am', '17May10:33am', '17May10:17am', '17May10:14am', '17May10:10am', '17May10:07am', '17May10:02am', '17May9:58am', '17May9:54am', '17May9:51am', '17May9:49am', '17May9:46am', '17May9:06am', '17May9:02am', '17May8:57am', '17May8:54am', '17May8:54am', '17May8:51am', '17May8:47am', '16May11:29pm', '16May11:25pm', '16May11:22pm', '16May11:19pm', '16May11:15pm', '16May11:13pm', '16May11:08pm', '16May11:08pm', '16May11:05pm', '16May11:00pm', '16May10:57pm', '16May3:51pm', '16May3:51pm', '16May2:53pm', '16May2:49pm', '16May2:45pm', '16May2:44pm', '16May2:18pm', '16May2:15pm', '16May2:11pm', '16May2:07pm', '16May2:03pm', '16May1:59pm', '16May1:56pm', '16May1:51pm', '16May1:47pm', '16May1:43pm', '16May11:15am', '16May11:11am', '16May11:06am', '16May11:04am', '16May11:00am', '16May10:57am', '16May10:52am', '16May10:48am', '16May10:44am', '16May10:41am', '16May10:26am', '16May10:21am', '16May10:15am', '16May10:10am', '16May10:04am', '16May9:59am', '16May9:57am', '16May9:53am', '16May9:48am', '16May9:44am', '16May9:41am', '16May9:38am', '16May9:33am', '16May9:29am', '16May9:26am', '16May9:21am', '16May9:18am', '16May9:16am', '16May8:31am', '15May7:03pm', '15May7:01pm', '15May6:57pm', '15May6:53pm', '15May6:49pm', '15May6:44pm', '15May6:41pm', '15May2:50pm', '15May2:46pm', '15May2:42pm', '15May2:37pm', '15May2:34pm', '15May2:31pm', '15May2:28pm', '15May2:24pm', '15May2:20pm', '15May2:18pm', '15May2:13pm', '15May2:10pm', '15May2:07pm', '15May2:03pm', '15May1:07pm', '15May1:00pm', '15May11:10am', '15May11:06am', '15May11:02am', '15May11:02am', '15May10:59am', '15May10:55am', '15May10:51am', '15May10:51am', '15May10:48am', '15May10:44am', '15May10:39am', '15May10:34am', '15May10:33am', '15May10:30am', '15May10:27am', '15May10:24am', '15May10:20am', '15May10:16am', '15May10:10am', '15May10:07am', '15May10:05am', '15May10:04am', '15May10:01am', '15May9:54am', '15May9:52am', '15May9:44am', '15May9:40am', '15May9:37am', '15May9:33am', '15May9:29am', '15May7:14am', '15May7:09am', '14May6:05pm', '14May6:02pm', '14May5:59pm', '14May5:56pm', '14May5:53pm', '14May5:48pm', '14May5:46pm', '14May5:43pm', '14May5:39pm', '14May8:37am', '14May8:31am', '14May8:29am', '14May8:26am', '14May8:23am', '14May8:19am', '14May8:17am', '14May8:13am', '14May8:09am', '14May8:05am', '14May8:01am', '11May2:19pm', '11May2:14pm', '10May6:36pm', '10May6:31pm', '10May6:27pm', '10May6:25pm', '10May6:21pm', '10May6:21pm', '10May6:14pm', '10May6:10pm', '10May6:06pm', '10May4:37pm', '10May4:32pm', '10May4:30pm', '10May4:26pm', '10May4:21pm', '10May4:19pm', '10May4:17pm', '10May4:11pm', '10May4:06pm', '10May4:03pm', '10May4:00pm', '10May3:57pm', '10May3:54pm', '10May3:51pm', '10May12:29pm', '10May12:25pm', '10May12:19pm', '10May12:11pm', '10May12:08pm', '10May12:02pm', '10May11:59am', '10May11:56am', '10May11:38am', '10May11:35am', '10May11:32am', '10May11:28am', '10May11:25am', '10May11:21am', '10May11:17am', '10May11:14am', '10May11:10am', '10May11:05am', '10May11:01am', '10May10:57am', '10May10:53am', '10May10:50am', '10May10:46am', '10May10:43am', '10May10:40am', '10May10:37am', '10May10:34am', '10May10:31am', '10May10:27am', '10May10:24am', '10May10:21am', '10May10:12am', '10May10:10am', '10May10:07am', '10May10:02am', '10May9:59am', '10May9:55am', '10May9:51am', '10May9:48am', '10May9:05am', '10May9:02am', '10May8:58am', '10May8:53am', '10May8:46am', '10May8:43am', '10May8:37am', '10May8:34am', '9May7:42pm', '9May7:40pm', '9May7:38pm', '9May7:35pm', '9May7:32pm', '9May7:24pm', '9May7:21pm', '9May7:21pm', '9May7:14pm', '9May7:11pm', '9May7:06pm', '9May7:03pm', '9May7:00pm', '9May7:00pm', '9May6:56pm', '9May6:52pm', '9May6:43pm', '9May6:40pm', '9May12:25pm', '9May12:23pm', '9May12:18pm', '9May12:14pm', '9May12:48am', '9May12:25am', '9May12:20am', '9May12:16am', '9May12:10am', '9May12:06am', '9May12:02am', '9May12:00am', '8May11:56pm', '8May8:05pm', '8May8:01pm', '8May7:57pm', '8May7:53pm', '8May7:49pm', '8May7:45pm', '8May7:42pm', '8May7:38pm', '8May7:33pm', '8May7:30pm', '8May7:25pm', '8May7:21pm', '8May7:21pm', '8May7:18pm', '8May7:15pm', '8May7:11pm', '8May7:11pm', '8May7:07pm', '8May7:06pm', '8May7:06pm', '8May7:03pm', '8May7:00pm', '8May10:58am', '8May10:54am', '8May10:52am', '8May10:49am', '8May10:45am', '8May10:41am', '8May10:36am', '8May10:33am', '8May9:03am', '8May8:59am', '8May8:55am', '8May8:51am', '8May8:47am', '8May8:44am', '8May8:40am', '7May9:23am', '7May9:20am', '7May9:16am', '7May9:13am', '7May9:07am', '7May9:05am', '7May8:59am', '7May8:57am', '7May8:53am', '7May8:50am', '7May8:46am', '7May8:43am', '7May8:37am', '7May8:33am', '6May8:51pm', '6May8:48pm', '6May8:45pm', '6May8:41pm', '6May8:34pm', '6May8:29pm', '6May8:26pm', '6May8:22pm', '6May8:20pm', '6May8:17pm', '6May8:13pm', '6May8:07pm', '6May8:04pm', '6May8:00pm', '6May7:57pm', '6May7:50pm', '6May7:46pm', '6May7:42pm', '6May7:38pm', '6May7:34pm', '6May7:31pm', '6May7:28pm', '6May7:24pm', '6May7:21pm', '6May7:17pm', '6May7:14pm', '6May7:09pm', '6May7:05pm', '6May7:02pm', '6May7:00pm', '6May6:56pm', '6May6:53pm', '6May6:48pm', '6May6:42pm', '6May6:36pm', '6May6:32pm', '6May6:29pm', '6May6:26pm', '6May6:19pm', '6May6:17pm', '6May6:12pm', '6May6:09pm', '6May6:05pm', '6May6:01pm', '6May5:57pm', '6May5:53pm', '6May5:49pm', '6May5:45pm', '6May5:42pm', '6May5:38pm', '6May5:35pm', '6May5:30pm', '6May5:26pm', '6May5:23pm', '6May5:21pm', '6May5:16pm', '6May5:13pm', '6May5:11pm', '6May5:07pm', '6May5:03pm', '6May4:58pm', '6May4:53pm', '6May4:50pm', '6May4:47pm', '6May4:42pm', '6May4:38pm', '6May4:35pm', '6May4:30pm', '6May4:27pm', '6May4:24pm', '6May4:21pm', '6May4:17pm', '6May4:12pm', '6May4:08pm', '6May4:05pm', '6May4:00pm', '6May3:57pm', '6May3:54pm', '6May3:50pm', '6May3:46pm', '6May3:42pm', '6May3:38pm', '6May3:13pm', '6May3:10pm', '6May3:06pm', '6May3:01pm', '6May2:58pm', '6May2:55pm', '6May2:50pm', '6May2:46pm', '6May2:43pm', '6May2:41pm', '4May9:26pm', '4May9:21pm', '4May9:18pm', '4May9:15pm', '4May9:11pm', '4May9:08pm', '4May9:04pm', '4May9:00pm', '4May8:56pm', '4May8:54pm', '4May8:51pm', '4May8:47pm', '4May8:44pm', '4May8:39pm', '4May8:36pm', '4May8:33pm', '4May8:28pm', '4May8:26pm', '4May8:21pm', '4May8:17pm', '4May8:14pm', '4May8:10pm', '4May8:07pm', '4May8:01pm', '4May7:55pm', '4May7:50pm', '4May2:57pm', '4May2:55pm', '4May2:51pm', '4May2:46pm', '4May2:44pm', '4May2:39pm', '4May2:38pm', '4May2:35pm', '4May2:27pm', '4May2:21pm', '4May2:17pm', '4May2:13pm', '2May5:49pm', '2May5:46pm', '2May5:40pm', '2May5:40pm', '2May5:34pm', '2May5:31pm', '2May5:26pm', '2May5:20pm', '2May5:15pm', '2May2:57pm', '2May2:53pm', '2May2:50pm', '2May2:47pm', '2May2:44pm', '2May9:09am', '2May9:06am', '2May9:02am', '2May8:56am', '2May8:52am', '2May8:50am', '2May8:47am', '2May8:43am', '1May9:52pm', '1May9:46pm', '1May9:43pm', '1May9:39pm', '1May9:34pm', '1May9:31pm', '1May9:27pm', '1May9:25pm', '1May9:21pm', '1May9:17pm', '1May9:14pm', '1May9:09pm', '1May9:04pm', '1May9:00pm', '1May6:40pm', '1May6:38pm', '1May6:38pm', '1May6:34pm', '1May6:34pm', '1May6:32pm', '1May6:28pm', '1May6:24pm', '1May6:18pm', '1May6:18pm', '1May6:11pm', '1May6:07pm', '1May6:02pm', '1May5:57pm', '1May5:54pm', '1May5:50pm', '1May5:46pm', '1May5:42pm', '1May5:38pm', '1May5:35pm', '1May10:46am', '1May10:42am', '1May10:39am', '1May10:33am', '1May10:28am', '1May10:25am', '1May10:22am', '1May10:22am', '1May10:19am', '1May10:15am', '1May10:11am', '1May10:07am', '1May10:03am', '1May10:03am', '30Apr8:04pm', '30Apr8:00pm', '30Apr8:00pm', '30Apr7:57pm', '30Apr7:55pm', '30Apr7:55pm', '30Apr7:51pm', '30Apr7:49pm', '30Apr7:46pm', '30Apr7:43pm', '30Apr7:41pm', '30Apr7:36pm', '30Apr7:33pm', '30Apr7:29pm', '30Apr7:25pm', '30Apr7:21pm', '30Apr7:18pm', '30Apr7:15pm', '30Apr7:10pm', '30Apr3:59pm', '30Apr3:56pm', '30Apr3:53pm', '30Apr3:47pm', '30Apr3:39pm', '30Apr3:34pm', '30Apr3:29pm', '30Apr3:25pm', '30Apr3:21pm', '30Apr3:18pm', '30Apr3:12pm', '30Apr3:09pm', '30Apr3:04pm', '30Apr2:59pm', '30Apr2:55pm', '30Apr2:52pm', '30Apr2:49pm', '30Apr2:46pm', '30Apr2:38pm', '30Apr2:35pm', '30Apr2:31pm', '30Apr2:25pm', '30Apr2:20pm', '30Apr2:16pm', '30Apr2:13pm', '30Apr2:11pm', '30Apr2:07pm', '30Apr2:04pm', '30Apr2:01pm', '30Apr1:58pm', '30Apr1:54pm', '30Apr1:50pm', '30Apr1:47pm', '30Apr1:42pm', '30Apr1:38pm', '30Apr1:35pm', '30Apr1:32pm', '30Apr1:28pm', '30Apr1:25pm', '30Apr1:21pm', '30Apr1:17pm', '30Apr1:15pm', '30Apr12:12pm', '30Apr12:09pm', '30Apr12:07pm', '30Apr11:52am', '30Apr11:48am', '30Apr11:44am', '30Apr11:42am', '30Apr11:39am', '30Apr11:35am', '30Apr11:31am', '30Apr11:27am', '30Apr11:24am', '30Apr11:18am', '30Apr11:07am', '30Apr11:03am', '30Apr11:00am', '30Apr10:56am', '30Apr10:52am', '30Apr10:48am', '30Apr10:42am', '30Apr10:38am', '30Apr10:35am', '30Apr10:31am', '30Apr10:26am', '30Apr10:20am', '30Apr10:14am', '30Apr10:10am', '30Apr10:07am', '30Apr10:00am', '30Apr9:56am', '30Apr9:52am', '30Apr9:49am', '30Apr9:45am', '30Apr9:38am', '30Apr8:57am', '30Apr8:54am', '30Apr8:49am', '30Apr8:46am', '30Apr8:43am', '30Apr8:38am', '30Apr8:34am', '30Apr8:32am', '30Apr8:28am', '29Apr8:58am', '29Apr8:54am', '27Apr12:16am', '26Apr5:42pm', '26Apr5:39pm', '26Apr5:33pm', '26Apr5:32pm', '26Apr5:29pm', '26Apr5:23pm', '26Apr5:18pm', '26Apr5:16pm', '26Apr4:41pm', '26Apr4:34pm', '26Apr4:30pm', '26Apr4:28pm', '26Apr4:23pm', '26Apr4:23pm', '26Apr4:20pm', '26Apr4:16pm', '26Apr4:13pm', '26Apr4:12pm', '26Apr4:09pm', '26Apr4:05pm', '26Apr4:01pm', '26Apr4:01pm', '26Apr11:58am', '26Apr11:55am', '26Apr11:51am', '26Apr11:46am', '26Apr11:43am', '26Apr11:40am', '26Apr11:40am', '26Apr10:13am', '26Apr10:10am', '26Apr10:07am', '26Apr10:03am', '26Apr10:00am', '26Apr9:56am', '26Apr9:52am', '26Apr9:52am', '26Apr9:48am', '26Apr9:48am', '26Apr9:43am', '26Apr9:41am', '26Apr9:33am', '26Apr9:31am', '26Apr9:28am', '26Apr9:25am', '26Apr9:12am', '26Apr9:08am', '26Apr9:04am', '26Apr9:01am', '26Apr8:57am', '26Apr8:53am', '26Apr8:50am', '26Apr8:47am', '26Apr8:44am', '26Apr8:40am', '26Apr8:37am', '26Apr8:33am', '26Apr8:27am', '25Apr6:51pm', '25Apr6:48pm', '25Apr6:43pm', '25Apr6:40pm', '25Apr6:34pm', '25Apr6:30pm', '25Apr6:27pm', '25Apr6:24pm', '25Apr6:20pm', '25Apr1:59pm', '25Apr1:55pm', '25Apr1:54pm', '25Apr1:51pm', '25Apr1:48pm', '25Apr1:43pm', '25Apr1:39pm', '25Apr1:34pm', '25Apr1:30pm', '25Apr1:25pm', '25Apr1:21pm', '25Apr1:18pm', '25Apr1:15pm', '25Apr1:12pm', '25Apr1:08pm', '25Apr1:03pm', '25Apr12:58pm', '25Apr12:55pm', '25Apr12:51pm', '25Apr12:48pm', '25Apr12:44pm', '25Apr12:41pm', '25Apr12:38pm', '25Apr12:36pm', '25Apr12:32pm', '25Apr12:28pm', '25Apr12:12pm', '25Apr12:09pm', '25Apr12:06pm', '25Apr12:03pm', '25Apr11:59am', '25Apr11:56am', '25Apr11:50am', '25Apr11:41am', '25Apr11:37am', '25Apr11:33am', '25Apr11:30am', '25Apr11:25am', '25Apr11:23am', '25Apr11:19am', '25Apr11:16am', '25Apr11:13am', '25Apr11:11am', '25Apr11:07am', '25Apr11:03am', '25Apr9:54am', '25Apr9:49am', '25Apr9:45am', '25Apr9:42am', '25Apr9:38am', '25Apr9:36am', '25Apr9:28am', '25Apr9:24am', '25Apr9:21am', '25Apr9:17am', '25Apr8:42am', '24Apr5:59pm', '24Apr5:56pm', '24Apr5:53pm', '24Apr5:49pm', '24Apr5:45pm', '24Apr5:42pm', '24Apr5:38pm', '24Apr8:42am', '24Apr8:39am', '24Apr8:36am', '22Apr5:48pm', '22Apr5:45pm', '22Apr5:44pm', '22Apr5:41pm', '22Apr5:36pm', '22Apr5:33pm', '22Apr5:31pm', '22Apr5:27pm', '22Apr5:25pm', '22Apr5:21pm', '22Apr5:14pm', '22Apr5:07pm', '22Apr5:04pm', '22Apr5:01pm', '22Apr4:58pm', '22Apr4:52pm', '21Apr2:24pm', '21Apr2:20pm', '21Apr2:16pm', '21Apr2:13pm', '21Apr2:08pm', '21Apr2:05pm', '21Apr2:02pm', '21Apr1:59pm', '21Apr1:56pm', '21Apr1:53pm', '21Apr1:50pm', '21Apr1:47pm', '21Apr1:44pm', '20Apr3:37pm', '20Apr3:26pm', '20Apr1:30am', '20Apr1:26am', '20Apr1:22am', '20Apr1:18am', '20Apr1:13am', '20Apr1:10am', '20Apr1:05am', '20Apr1:01am', '20Apr12:57am', '20Apr12:53am', '20Apr12:49am', '20Apr12:45am', '20Apr12:42am', '20Apr12:38am', '20Apr12:34am', '20Apr12:32am', '20Apr12:27am', '20Apr12:25am', '20Apr12:21am', '20Apr12:19am', '20Apr12:14am', '20Apr12:10am', '20Apr12:07am', '19Apr11:59pm', '19Apr11:57pm', '19Apr8:06pm', '19Apr8:03pm', '19Apr8:01pm', '19Apr7:57pm', '19Apr7:53pm', '19Apr7:51pm', '19Apr7:48pm', '19Apr7:44pm', '19Apr7:41pm', '19Apr7:36pm', '19Apr7:31pm', '19Apr7:26pm', '19Apr7:23pm', '19Apr7:18pm', '19Apr7:15pm', '19Apr7:11pm', '19Apr7:08pm', '19Apr7:04pm', '19Apr7:00pm', '19Apr6:59pm', '19Apr6:54pm', '19Apr6:50pm', '19Apr6:47pm', '19Apr6:43pm', '19Apr6:38pm', '19Apr6:36pm', '19Apr6:33pm', '19Apr6:29pm', '19Apr6:26pm', '19Apr6:22pm', '19Apr6:20pm', '19Apr6:16pm', '19Apr6:09pm', '19Apr6:05pm', '19Apr6:01pm', '19Apr5:59pm', '19Apr5:54pm', '19Apr5:52pm', '19Apr5:49pm', '19Apr5:46pm', '19Apr5:42pm', '18Apr10:14pm', '18Apr10:11pm', '18Apr10:05pm', '18Apr10:03pm', '18Apr9:55pm', '18Apr9:52pm', '18Apr9:48pm', '18Apr9:46pm', '18Apr9:43pm', '18Apr9:41pm', '18Apr9:37pm', '18Apr9:34pm', '18Apr9:28pm', '18Apr9:25pm', '18Apr9:22pm', '18Apr9:19pm', '18Apr9:06am', '18Apr9:04am', '17Apr8:42am', '17Apr8:38am', '17Apr8:31am', '17Apr8:26am', '17Apr8:23am', '16Apr7:13pm', '16Apr7:11pm', '16Apr9:01am', '16Apr8:57am', '16Apr8:53am', '16Apr8:48am', '16Apr8:45am', '16Apr8:34am', '16Apr8:19am', '16Apr8:16am', '16Apr8:11am', '16Apr8:08am', '16Apr8:05am', '16Apr8:01am', '16Apr7:58am', '15Apr8:49pm', '15Apr8:46pm', '15Apr8:43pm', '15Apr8:38pm', '15Apr8:36pm', '15Apr8:33pm', '15Apr7:59pm', '15Apr7:55pm', '15Apr7:52pm', '15Apr7:48pm', '15Apr7:44pm', '15Apr7:41pm', '15Apr10:11am', '15Apr9:01am', '14Apr6:58pm', '14Apr6:55pm', '14Apr6:51pm', '14Apr6:48pm', '14Apr6:44pm', '14Apr6:41pm', '14Apr6:35pm', '14Apr6:31pm', '14Apr6:28pm', '14Apr6:24pm', '14Apr6:21pm', '14Apr6:19pm', '14Apr4:51pm', '14Apr4:47pm', '14Apr4:45pm', '14Apr4:45pm', '14Apr4:41pm', '14Apr4:37pm', '14Apr12:37pm', '14Apr12:34pm', '14Apr12:32pm', '14Apr12:28pm', '14Apr12:28pm', '14Apr12:25pm', '14Apr12:23pm', '14Apr12:21pm', '14Apr12:18pm', '14Apr12:14pm', '14Apr12:09pm', '12Apr5:20pm', '12Apr5:16pm', '12Apr5:13pm', '12Apr5:10pm', '12Apr5:08pm', '12Apr5:06pm', '12Apr5:03pm', '12Apr8:46am', '12Apr8:46am', '12Apr8:39am', '12Apr8:33am', '12Apr8:30am', '12Apr8:27am', '12Apr8:24am', '12Apr8:20am', '11Apr10:54pm', '11Apr10:51pm', '11Apr10:48pm', '11Apr10:44pm', '11Apr10:40pm', '11Apr10:35pm', '11Apr10:30pm', '11Apr10:26pm', '11Apr10:22pm', '11Apr10:17pm', '11Apr10:15pm', '11Apr10:12pm', '11Apr6:34pm', '11Apr6:24pm', '11Apr6:20pm', '11Apr6:15pm', '11Apr6:12pm', '11Apr6:09pm', '11Apr6:06pm', '11Apr6:03pm', '11Apr5:58pm', '11Apr5:52pm', '11Apr5:50pm', '11Apr5:48pm', '11Apr5:41pm', '11Apr5:38pm', '11Apr5:38pm', '11Apr5:35pm', '11Apr5:32pm', '11Apr5:29pm', '11Apr5:25pm', '11Apr5:18pm', '11Apr5:16pm', '11Apr5:12pm', '11Apr5:08pm', '11Apr5:06pm', '11Apr4:59pm', '11Apr4:59pm', '11Apr4:56pm', '11Apr4:53pm', '11Apr4:53pm', '11Apr4:48pm', '11Apr4:44pm', '10Apr8:25pm', '10Apr8:22pm', '10Apr8:18pm', '10Apr8:14pm', '10Apr8:10pm', '10Apr8:07pm', '10Apr8:02pm', '10Apr7:59pm', '10Apr7:57pm', '10Apr7:53pm', '10Apr7:49pm', '10Apr7:45pm', '10Apr7:43pm', '10Apr7:39pm', '10Apr7:36pm', '10Apr7:36pm', '10Apr7:25pm', '10Apr7:20pm', '10Apr7:16pm', '10Apr7:13pm', '10Apr7:09pm', '10Apr7:06pm', '10Apr7:03pm', '10Apr6:54pm', '10Apr6:49pm', '10Apr6:46pm', '10Apr6:43pm', '10Apr6:34pm', '10Apr8:49am', '10Apr8:42am', '10Apr8:38am', '10Apr8:32am', '10Apr8:26am', '10Apr8:22am', '10Apr8:19am', '10Apr8:15am', '9Apr8:32am', '8Apr7:37pm', '8Apr7:32pm', '7Apr3:20am', '7Apr3:16am', '7Apr3:12am', '6Apr10:09pm', '6Apr10:05pm', '6Apr10:01pm', '6Apr9:57pm', '6Apr9:54pm', '6Apr3:42pm', '6Apr3:36pm', '6Apr3:33pm', '6Apr3:26pm', '4Apr9:00am', '4Apr8:57am', '4Apr8:53am', '3Apr10:03pm', '3Apr9:59pm', '3Apr9:56pm', '3Apr9:52pm', '3Apr8:48am', '3Apr8:48am', '3Apr8:45am', '3Apr8:40am', '3Apr8:37am', '3Apr8:32am', '3Apr8:32am', '3Apr8:28am', '3Apr8:24am', '3Apr7:57am', '3Apr7:53am', '3Apr7:50am', '3Apr7:48am', '3Apr7:43am', '3Apr7:40am', '3Apr7:38am', '3Apr7:34am', '2Apr5:48pm', '2Apr5:43pm', '2Apr12:57pm', '2Apr8:29am', '2Apr8:25am', '1Apr8:32am', '30Mar2:34pm', '30Mar1:41pm', '30Mar1:40pm', '30Mar1:36pm', '30Mar1:36pm', '30Mar1:34pm', '30Mar1:27pm', '30Mar1:21pm', '30Mar1:17pm', '30Mar1:14pm', '30Mar1:10pm', '30Mar12:01pm', '30Mar11:10am', '30Mar11:08am', '30Mar11:05am', '30Mar10:58am', '29Mar8:45am', '29Mar8:12am', '29Mar8:12am', '29Mar8:08am', '29Mar8:01am', '29Mar7:56am', '29Mar7:51am', '28Mar11:11pm', '28Mar11:07pm', '28Mar11:02pm', '28Mar10:59pm', '28Mar12:39pm', '28Mar12:35pm', '28Mar12:31pm', '28Mar12:31pm', '28Mar12:28pm', '28Mar12:25pm', '28Mar12:21pm', '27Mar8:52pm', '27Mar8:44pm', '27Mar8:42pm', '27Mar8:39pm', '27Mar8:36pm', '27Mar8:32pm', '27Mar8:29pm', '27Mar8:23pm', '27Mar8:20pm', '27Mar8:17pm', '27Mar8:13pm', '27Mar8:07pm', '27Mar8:23am', '27Mar8:21am', '27Mar8:18am', '27Mar8:15am', '27Mar8:11am', '27Mar8:07am', '27Mar8:05am', '27Mar8:02am', '27Mar7:59am', '27Mar7:54am', '26Mar9:57pm', '26Mar7:53pm', '26Mar7:49pm', '26Mar7:45pm', '26Mar7:39pm', '26Mar7:35pm', '26Mar7:30pm', '26Mar7:26pm', '26Mar6:22pm', '26Mar6:16pm', '26Mar6:12pm', '26Mar6:08pm', '26Mar6:04pm', '26Mar6:00pm', '25Mar9:03am', '25Mar8:57am', '25Mar8:53am', '25Mar8:49am', '22Mar2:58pm', '22Mar2:54pm', '22Mar2:50pm', '22Mar2:50pm', '22Mar2:47pm', '22Mar2:43pm', '22Mar2:38pm', '22Mar2:35pm', '22Mar2:29pm', '22Mar2:23pm', '22Mar2:21pm', '22Mar2:17pm', '22Mar2:13pm', '22Mar2:10pm', '22Mar2:07pm', '22Mar8:57am', '22Mar8:54am', '22Mar8:51am', '22Mar8:48am', '22Mar8:45am', '22Mar8:40am', '22Mar8:37am', '22Mar8:34am', '22Mar8:29am', '22Mar8:27am', '22Mar12:10am', '22Mar12:07am', '22Mar12:02am', '22Mar12:00am', '21Mar11:56pm', '21Mar11:54pm', '21Mar11:51pm', '21Mar8:54am', '21Mar8:50am', '21Mar8:46am', '20Mar6:35pm', '20Mar6:31pm', '20Mar6:29pm', '20Mar6:24pm', '20Mar6:24pm', '20Mar6:21pm', '20Mar6:17pm', '20Mar6:10pm', '16Mar11:25am', '16Mar11:22am', '15Mar11:47pm', '15Mar11:43pm', '15Mar11:39pm', '15Mar11:35pm', '15Mar11:32pm', '15Mar11:28pm', '15Mar6:01pm', '15Mar5:59pm', '15Mar5:54pm', '15Mar8:10am', '14Mar8:41am', '14Mar8:37am', '14Mar8:30am', '13Mar11:14pm', '13Mar11:11pm', '13Mar11:05pm', '13Mar11:03pm', '13Mar10:56pm', '13Mar10:52pm', '13Mar10:48pm', '13Mar10:42pm', '13Mar5:47pm', '13Mar5:47pm', '13Mar5:42pm', '13Mar5:37pm', '13Mar5:33pm', '13Mar5:30pm', '13Mar5:30pm', '13Mar5:23pm', '13Mar5:21pm', '13Mar12:52pm', '13Mar12:48pm', '13Mar12:45pm', '13Mar12:41pm', '13Mar12:39pm', '13Mar12:34pm', '13Mar12:32pm', '13Mar8:41am', '13Mar8:37am', '13Mar8:32am', '13Mar8:30am', '13Mar8:25am', '13Mar8:23am', '13Mar8:18am', '13Mar8:16am', '13Mar8:13am', '13Mar8:09am', '12Mar9:22pm', '12Mar9:14pm', '12Mar9:11pm', '12Mar9:06pm', '12Mar9:04pm', '12Mar9:01pm', '12Mar8:57pm', '12Mar8:51pm', '12Mar8:48pm', '12Mar8:45pm', '12Mar8:40pm', '12Mar8:34pm', '12Mar8:31pm', '12Mar8:31pm', '12Mar8:26pm', '12Mar8:22pm', '12Mar8:15pm', '12Mar8:11pm', '12Mar8:08pm', '12Mar8:04pm', '12Mar8:00pm', '12Mar7:23pm', '12Mar7:19pm', '12Mar7:15pm', '12Mar7:11pm', '12Mar7:07pm', '12Mar7:04pm', '12Mar7:00pm', '12Mar6:57pm', '12Mar6:53pm', '12Mar6:48pm', '12Mar6:45pm', '12Mar6:41pm', '12Mar6:41pm']\n"
     ]
    }
   ],
   "source": [
    "# apply timestamp function\n",
    "my_times = get_timestamp_list(my_soups)\n",
    "\n",
    "# check\n",
    "print(len(my_times[5]))\n",
    "print(my_times)"
   ]
  },
  {
   "cell_type": "code",
   "execution_count": 11,
   "metadata": {},
   "outputs": [
    {
     "data": {
      "text/html": [
       "<div>\n",
       "<style scoped>\n",
       "    .dataframe tbody tr th:only-of-type {\n",
       "        vertical-align: middle;\n",
       "    }\n",
       "\n",
       "    .dataframe tbody tr th {\n",
       "        vertical-align: top;\n",
       "    }\n",
       "\n",
       "    .dataframe thead th {\n",
       "        text-align: right;\n",
       "    }\n",
       "</style>\n",
       "<table border=\"1\" class=\"dataframe\">\n",
       "  <thead>\n",
       "    <tr style=\"text-align: right;\">\n",
       "      <th></th>\n",
       "      <th>song</th>\n",
       "      <th>artist</th>\n",
       "      <th>play_time</th>\n",
       "      <th>download_time</th>\n",
       "    </tr>\n",
       "  </thead>\n",
       "  <tbody>\n",
       "    <tr>\n",
       "      <th>2300</th>\n",
       "      <td>Shoplifters of the World Unite</td>\n",
       "      <td>The Smiths</td>\n",
       "      <td>12Mar6:53pm</td>\n",
       "      <td>2019-07-03 17:06:11.421023</td>\n",
       "    </tr>\n",
       "    <tr>\n",
       "      <th>2301</th>\n",
       "      <td>People Who Died</td>\n",
       "      <td>The Jim Carroll Band</td>\n",
       "      <td>12Mar6:48pm</td>\n",
       "      <td>2019-07-03 17:06:11.421023</td>\n",
       "    </tr>\n",
       "    <tr>\n",
       "      <th>2302</th>\n",
       "      <td>Put on a Side</td>\n",
       "      <td>The Breeders</td>\n",
       "      <td>12Mar6:45pm</td>\n",
       "      <td>2019-07-03 17:06:11.421023</td>\n",
       "    </tr>\n",
       "    <tr>\n",
       "      <th>2303</th>\n",
       "      <td>Sour Girl</td>\n",
       "      <td>Stone Temple Pilots</td>\n",
       "      <td>12Mar6:41pm</td>\n",
       "      <td>2019-07-03 17:06:11.421023</td>\n",
       "    </tr>\n",
       "    <tr>\n",
       "      <th>2304</th>\n",
       "      <td>Asking for It</td>\n",
       "      <td>Hole</td>\n",
       "      <td>12Mar6:41pm</td>\n",
       "      <td>2019-07-03 17:06:11.421023</td>\n",
       "    </tr>\n",
       "  </tbody>\n",
       "</table>\n",
       "</div>"
      ],
      "text/plain": [
       "                                 song                artist    play_time  \\\n",
       "2300  Shoplifters of the World Unite             The Smiths  12Mar6:53pm   \n",
       "2301                  People Who Died  The Jim Carroll Band  12Mar6:48pm   \n",
       "2302                    Put on a Side          The Breeders  12Mar6:45pm   \n",
       "2303                        Sour Girl   Stone Temple Pilots  12Mar6:41pm   \n",
       "2304                    Asking for It                  Hole  12Mar6:41pm   \n",
       "\n",
       "                  download_time  \n",
       "2300 2019-07-03 17:06:11.421023  \n",
       "2301 2019-07-03 17:06:11.421023  \n",
       "2302 2019-07-03 17:06:11.421023  \n",
       "2303 2019-07-03 17:06:11.421023  \n",
       "2304 2019-07-03 17:06:11.421023  "
      ]
     },
     "execution_count": 11,
     "metadata": {},
     "output_type": "execute_result"
    }
   ],
   "source": [
    "# makes data frame of scrapes that align \n",
    "my_lists = [my_songs,my_artists,my_times]\n",
    "my_coulm_names = ['song', 'artist', 'play_time']\n",
    "my_scrobbles = pd.DataFrame(np.column_stack(my_lists), \n",
    "                               columns=my_coulm_names)\n",
    "my_scrobbles['download_time'] = datetime.now()\n",
    "my_scrobbles.tail()"
   ]
  },
  {
   "cell_type": "code",
   "execution_count": 12,
   "metadata": {},
   "outputs": [
    {
     "data": {
      "text/plain": [
       "2305"
      ]
     },
     "execution_count": 12,
     "metadata": {},
     "output_type": "execute_result"
    }
   ],
   "source": [
    "my_scrobbles.shape[0]"
   ]
  },
  {
   "cell_type": "code",
   "execution_count": 15,
   "metadata": {},
   "outputs": [],
   "source": [
    "# export\n",
    "export_path = \"/Users/rosiedempsey/Desktop/MusicProject/DataExports/RawScrobbles.csv\"\n",
    "my_scrobbles.to_csv(export_path, index=False)"
   ]
  },
  {
   "cell_type": "code",
   "execution_count": 16,
   "metadata": {},
   "outputs": [
    {
     "data": {
      "text/html": [
       "<div>\n",
       "<style scoped>\n",
       "    .dataframe tbody tr th:only-of-type {\n",
       "        vertical-align: middle;\n",
       "    }\n",
       "\n",
       "    .dataframe tbody tr th {\n",
       "        vertical-align: top;\n",
       "    }\n",
       "\n",
       "    .dataframe thead th {\n",
       "        text-align: right;\n",
       "    }\n",
       "</style>\n",
       "<table border=\"1\" class=\"dataframe\">\n",
       "  <thead>\n",
       "    <tr style=\"text-align: right;\">\n",
       "      <th></th>\n",
       "      <th>song</th>\n",
       "      <th>artist</th>\n",
       "      <th>play_time</th>\n",
       "      <th>download_time</th>\n",
       "    </tr>\n",
       "  </thead>\n",
       "  <tbody>\n",
       "    <tr>\n",
       "      <th>2300</th>\n",
       "      <td>Shoplifters of the World Unite</td>\n",
       "      <td>The Smiths</td>\n",
       "      <td>12Mar6:53pm</td>\n",
       "      <td>2019-07-03 17:06:11.421023</td>\n",
       "    </tr>\n",
       "    <tr>\n",
       "      <th>2301</th>\n",
       "      <td>People Who Died</td>\n",
       "      <td>The Jim Carroll Band</td>\n",
       "      <td>12Mar6:48pm</td>\n",
       "      <td>2019-07-03 17:06:11.421023</td>\n",
       "    </tr>\n",
       "    <tr>\n",
       "      <th>2302</th>\n",
       "      <td>Put on a Side</td>\n",
       "      <td>The Breeders</td>\n",
       "      <td>12Mar6:45pm</td>\n",
       "      <td>2019-07-03 17:06:11.421023</td>\n",
       "    </tr>\n",
       "    <tr>\n",
       "      <th>2303</th>\n",
       "      <td>Sour Girl</td>\n",
       "      <td>Stone Temple Pilots</td>\n",
       "      <td>12Mar6:41pm</td>\n",
       "      <td>2019-07-03 17:06:11.421023</td>\n",
       "    </tr>\n",
       "    <tr>\n",
       "      <th>2304</th>\n",
       "      <td>Asking for It</td>\n",
       "      <td>Hole</td>\n",
       "      <td>12Mar6:41pm</td>\n",
       "      <td>2019-07-03 17:06:11.421023</td>\n",
       "    </tr>\n",
       "  </tbody>\n",
       "</table>\n",
       "</div>"
      ],
      "text/plain": [
       "                                 song                artist    play_time  \\\n",
       "2300  Shoplifters of the World Unite             The Smiths  12Mar6:53pm   \n",
       "2301                  People Who Died  The Jim Carroll Band  12Mar6:48pm   \n",
       "2302                    Put on a Side          The Breeders  12Mar6:45pm   \n",
       "2303                        Sour Girl   Stone Temple Pilots  12Mar6:41pm   \n",
       "2304                    Asking for It                  Hole  12Mar6:41pm   \n",
       "\n",
       "                   download_time  \n",
       "2300  2019-07-03 17:06:11.421023  \n",
       "2301  2019-07-03 17:06:11.421023  \n",
       "2302  2019-07-03 17:06:11.421023  \n",
       "2303  2019-07-03 17:06:11.421023  \n",
       "2304  2019-07-03 17:06:11.421023  "
      ]
     },
     "execution_count": 16,
     "metadata": {},
     "output_type": "execute_result"
    }
   ],
   "source": [
    "read_test = pd.read_csv(export_path)\n",
    "read_test.tail()"
   ]
  },
  {
   "cell_type": "code",
   "execution_count": 14,
   "metadata": {},
   "outputs": [],
   "source": [
    "# Don't run this - it is useful code for the next notebook\n",
    "\n",
    "# date time doesn't come with year! Need to concatenate year on \n",
    "# I guess add current year at time of scrape, not perfect but would do\n",
    "# from datetime import datetime\n",
    "# # 1 Jul 5:21pm \n",
    "# # \"%d %mmm %H:%Mpm\"\n",
    "# # datetimeObj = datetime.strptime('2018-09-11T15::11::45.456777', '%Y-%m-%dT%H::%M::%S.%f')\n",
    "# datetimeObj = datetime.strptime('20191 Jul 5:21pm', \"%Y%d %b %H:%Mpm\")\n",
    "# print(datetimeObj)\n",
    "# print(type(datetimeObj))"
   ]
  }
 ],
 "metadata": {
  "kernelspec": {
   "display_name": "Python 3",
   "language": "python",
   "name": "python3"
  },
  "language_info": {
   "codemirror_mode": {
    "name": "ipython",
    "version": 3
   },
   "file_extension": ".py",
   "mimetype": "text/x-python",
   "name": "python",
   "nbconvert_exporter": "python",
   "pygments_lexer": "ipython3",
   "version": "3.7.3"
  }
 },
 "nbformat": 4,
 "nbformat_minor": 2
}
